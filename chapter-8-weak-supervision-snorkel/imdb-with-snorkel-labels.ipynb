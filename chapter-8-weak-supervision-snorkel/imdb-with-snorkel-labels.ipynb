{
 "cells": [
  {
   "cell_type": "code",
   "execution_count": 1,
   "metadata": {
    "ExecuteTime": {
     "end_time": "2020-09-07T08:17:39.305006Z",
     "start_time": "2020-09-07T08:17:36.616053Z"
    }
   },
   "outputs": [
    {
     "name": "stdout",
     "output_type": "stream",
     "text": [
      "1 Physical GPUs, 1 Logical GPU\n"
     ]
    }
   ],
   "source": [
    "import numpy as np\n",
    "import pandas as pd\n",
    "import glob\n",
    "import re\n",
    "\n",
    "import tensorflow as tf\n",
    "from tensorflow.keras.preprocessing import sequence\n",
    "from tensorflow.keras.layers import Embedding, LSTM, \\\n",
    "                                    Bidirectional, Dense,\\\n",
    "                                    Dropout\n",
    "import tensorflow_datasets as tfds\n",
    "\n",
    "from bs4 import BeautifulSoup\n",
    "\n",
    "\n",
    "tf.keras.backend.clear_session() #- for easy reset of notebook state\n",
    "\n",
    "# chck if GPU can be seen by TF\n",
    "tf.config.list_physical_devices('GPU')\n",
    "#tf.debugging.set_log_device_placement(True)\n",
    "gpus = tf.config.experimental.list_physical_devices('GPU')\n",
    "if gpus:\n",
    "  # Restrict TensorFlow to only use the first GPU\n",
    "  try:\n",
    "    tf.config.experimental.set_memory_growth(gpus[0], True)\n",
    "    tf.config.experimental.set_visible_devices(gpus[0], 'GPU')\n",
    "    logical_gpus = tf.config.experimental.list_logical_devices('GPU')\n",
    "    print(len(gpus), \"Physical GPUs,\", len(logical_gpus), \"Logical GPU\")\n",
    "  except RuntimeError as e:\n",
    "    # Visible devices must be set before GPUs have been initialized\n",
    "    print(e)\n",
    "###############################################"
   ]
  },
  {
   "cell_type": "markdown",
   "metadata": {},
   "source": [
    "# Training Data Vectorization"
   ]
  },
  {
   "cell_type": "code",
   "execution_count": 2,
   "metadata": {
    "ExecuteTime": {
     "end_time": "2020-09-07T08:17:41.008627Z",
     "start_time": "2020-09-07T08:17:39.307166Z"
    }
   },
   "outputs": [],
   "source": [
    "def load_reviews(path, columns=[\"filename\", 'review']):\n",
    "    assert len(columns) == 2\n",
    "    l = list()\n",
    "    for filename in glob.glob(path):\n",
    "        # print(filename)\n",
    "        with open(filename, 'r') as f:\n",
    "            review = f.read()\n",
    "            l.append((filename, review))\n",
    "    return pd.DataFrame(l, columns=columns)\n",
    "\n",
    "#unsup_df = load_reviews(\"./aclImdb/train/unsup/*.txt\")\n",
    "\n",
    "def load_labelled_data(path, neg='/neg/',\n",
    "                       pos='/pos/', shuffle=True):\n",
    "    neg_df = load_reviews(path + neg + \"*.txt\")\n",
    "    pos_df = load_reviews(path + pos + \"*.txt\")\n",
    "    neg_df['sentiment'] = 0\n",
    "    pos_df['sentiment'] = 1\n",
    "    df = pd.concat([neg_df, pos_df], axis=0)\n",
    "    if shuffle:\n",
    "        df = df.sample(frac=1, random_state=42)\n",
    "    return df\n",
    "\n",
    "train_df = load_labelled_data(\"./aclImdb/train/\")\n",
    "\n",
    "def fn_to_score(f):\n",
    "    scr = f.split(\"/\")[-1]  # get file name\n",
    "    scr = scr.split(\".\")[0] # remove extension\n",
    "    scr = int(scr.split(\"_\")[-1]) #the score\n",
    "    return scr\n",
    "\n",
    "train_df['score'] = train_df.filename.apply(fn_to_score)\n",
    "train_df.head()\n",
    "\n",
    "test_df = load_labelled_data(\"./aclImdb/test/\")\n",
    "\n",
    "# load encoder\n",
    "imdb_encoder = tfds.features.text.SubwordTextEncoder.\\\n",
    "                load_from_file(\"imdb\")"
   ]
  },
  {
   "cell_type": "code",
   "execution_count": 3,
   "metadata": {
    "ExecuteTime": {
     "end_time": "2020-09-07T08:17:41.404939Z",
     "start_time": "2020-09-07T08:17:41.010591Z"
    }
   },
   "outputs": [],
   "source": [
    "# we need a sample of 2000 reviews for training\n",
    "num_recs = 2000\n",
    "\n",
    "train_small = pd.read_pickle(\"train_2k.df\")\n",
    "# we dont need the snorkel column\n",
    "train_small = train_small.drop(columns=['snorkel'])\n",
    "\n",
    "# remove markup\n",
    "cleaned_reviews = train_small.review.apply(lambda x: BeautifulSoup(x).text)\n",
    "# convert pandas DF in to tf.Dataset\n",
    "train = tf.data.Dataset.from_tensor_slices((cleaned_reviews.values,\n",
    "                                            train_small.sentiment.values))"
   ]
  },
  {
   "cell_type": "code",
   "execution_count": 4,
   "metadata": {
    "ExecuteTime": {
     "end_time": "2020-09-07T08:17:41.501094Z",
     "start_time": "2020-09-07T08:17:41.406736Z"
    }
   },
   "outputs": [],
   "source": [
    "# transformation functions to be used with the dataset\n",
    "\n",
    "def encode_pad_transform(sample):\n",
    "    encoded = imdb_encoder.encode(sample.numpy())\n",
    "    pad = sequence.pad_sequences([encoded], padding='post',\n",
    "                                 maxlen=150)\n",
    "    return np.array(pad[0], dtype=np.int64)\n",
    "\n",
    "\n",
    "def encode_tf_fn(sample, label):\n",
    "    encoded = tf.py_function(encode_pad_transform,\n",
    "                                       inp=[sample],\n",
    "                                       Tout=(tf.int64))\n",
    "    encoded.set_shape([None])\n",
    "    label.set_shape([])\n",
    "    return encoded, label\n",
    "\n",
    "encoded_train = train.map(encode_tf_fn,\n",
    "                        num_parallel_calls=tf.data.experimental.AUTOTUNE)"
   ]
  },
  {
   "cell_type": "markdown",
   "metadata": {},
   "source": [
    "# Test Data Vectorization"
   ]
  },
  {
   "cell_type": "code",
   "execution_count": 5,
   "metadata": {
    "ExecuteTime": {
     "end_time": "2020-09-07T08:17:46.109341Z",
     "start_time": "2020-09-07T08:17:41.502948Z"
    }
   },
   "outputs": [],
   "source": [
    "# remove markup\n",
    "cleaned_test_reviews = test_df.review.apply(lambda x: BeautifulSoup(x).text)\n",
    "# convert pandas DF in to tf.Dataset\n",
    "test = tf.data.Dataset.from_tensor_slices((cleaned_test_reviews.values,\n",
    "                                            test_df.sentiment.values))\n",
    "encoded_test = test.map(encode_tf_fn,\n",
    "                        num_parallel_calls=tf.data.experimental.AUTOTUNE)"
   ]
  },
  {
   "cell_type": "markdown",
   "metadata": {},
   "source": [
    "# Baseline Model"
   ]
  },
  {
   "cell_type": "code",
   "execution_count": 6,
   "metadata": {
    "ExecuteTime": {
     "end_time": "2020-09-07T08:17:46.117371Z",
     "start_time": "2020-09-07T08:17:46.110975Z"
    }
   },
   "outputs": [],
   "source": [
    "# Length of the vocabulary\n",
    "vocab_size = imdb_encoder.vocab_size\n",
    "\n",
    "# Number of RNN units\n",
    "rnn_units = 64\n",
    "\n",
    "# Embedding size\n",
    "embedding_dim = 64\n",
    "\n",
    "#batch size\n",
    "BATCH_SIZE=100\n",
    "\n",
    "dropout=0.3\n",
    "def build_model_bilstm(vocab_size, embedding_dim, rnn_units, batch_size, dropout=0.):\n",
    "  model = tf.keras.Sequential([\n",
    "    Embedding(vocab_size, embedding_dim, mask_zero=True,\n",
    "                              batch_input_shape=[batch_size, None]),\n",
    "    Bidirectional(LSTM(rnn_units, return_sequences=True,\n",
    "                      dropout=dropout)),\n",
    "    Dropout(dropout),\n",
    "    Bidirectional(tf.keras.layers.LSTM(rnn_units, dropout=dropout)),\n",
    "    Dropout(dropout),\n",
    "    Dense(1, activation='sigmoid')\n",
    "  ])\n",
    "  return model\n"
   ]
  },
  {
   "cell_type": "code",
   "execution_count": 7,
   "metadata": {
    "ExecuteTime": {
     "end_time": "2020-09-07T08:19:39.828777Z",
     "start_time": "2020-09-07T08:17:46.120101Z"
    }
   },
   "outputs": [
    {
     "name": "stdout",
     "output_type": "stream",
     "text": [
      "Train for 20 steps\n",
      "Epoch 1/15\n",
      "20/20 [==============================] - 16s 793ms/step - loss: 0.6943 - accuracy: 0.4795 - Precision: 0.4833 - Recall: 0.5940\n",
      "Epoch 2/15\n",
      "20/20 [==============================] - 4s 205ms/step - loss: 0.6509 - accuracy: 0.6690 - Precision: 0.7507 - Recall: 0.5060\n",
      "Epoch 3/15\n",
      "20/20 [==============================] - 4s 205ms/step - loss: 0.3906 - accuracy: 0.8400 - Precision: 0.8353 - Recall: 0.8470\n",
      "Epoch 4/15\n",
      "20/20 [==============================] - 4s 207ms/step - loss: 0.1462 - accuracy: 0.9455 - Precision: 0.9372 - Recall: 0.9550\n",
      "Epoch 5/15\n",
      "20/20 [==============================] - 4s 206ms/step - loss: 0.0590 - accuracy: 0.9785 - Precision: 0.9848 - Recall: 0.9720\n",
      "Epoch 6/15\n",
      "20/20 [==============================] - 4s 205ms/step - loss: 0.0115 - accuracy: 0.9975 - Precision: 0.9970 - Recall: 0.9980\n",
      "Epoch 7/15\n",
      "20/20 [==============================] - 4s 207ms/step - loss: 0.0049 - accuracy: 0.9995 - Precision: 1.0000 - Recall: 0.9990\n",
      "Epoch 8/15\n",
      "20/20 [==============================] - 4s 207ms/step - loss: 0.0059 - accuracy: 0.9990 - Precision: 0.9990 - Recall: 0.9990\n",
      "Epoch 9/15\n",
      "20/20 [==============================] - 4s 205ms/step - loss: 0.0064 - accuracy: 0.9970 - Precision: 0.9960 - Recall: 0.9980\n",
      "Epoch 10/15\n",
      "20/20 [==============================] - 4s 204ms/step - loss: 0.0135 - accuracy: 0.9950 - Precision: 0.9970 - Recall: 0.9930\n",
      "Epoch 11/15\n",
      "20/20 [==============================] - 4s 207ms/step - loss: 0.0317 - accuracy: 0.9890 - Precision: 0.9871 - Recall: 0.9910\n",
      "Epoch 12/15\n",
      "20/20 [==============================] - 4s 204ms/step - loss: 0.0208 - accuracy: 0.9925 - Precision: 0.9930 - Recall: 0.9920\n",
      "Epoch 13/15\n",
      "20/20 [==============================] - 4s 205ms/step - loss: 0.0037 - accuracy: 0.9990 - Precision: 0.9990 - Recall: 0.9990\n",
      "Epoch 14/15\n",
      "20/20 [==============================] - 4s 206ms/step - loss: 0.0123 - accuracy: 0.9965 - Precision: 0.9950 - Recall: 0.9980\n",
      "Epoch 15/15\n",
      "20/20 [==============================] - 4s 206ms/step - loss: 0.0044 - accuracy: 0.9995 - Precision: 0.9990 - Recall: 1.0000\n",
      "250/250 [==============================] - 37s 149ms/step - loss: 1.2689 - accuracy: 0.7432 - Precision: 0.7126 - Recall: 0.8153\n",
      "BASELINE TRAINED\n"
     ]
    }
   ],
   "source": [
    "bilstm = build_model_bilstm(vocab_size = vocab_size,\n",
    "        embedding_dim=embedding_dim,\n",
    "        rnn_units=rnn_units,  batch_size=BATCH_SIZE,\n",
    "        dropout=dropout)\n",
    "bilstm.compile(loss='binary_crossentropy',\n",
    "             optimizer='adam',\n",
    "             metrics=['accuracy', 'Precision', 'Recall'])\n",
    "\n",
    "encoded_train_batched = encoded_train.shuffle(num_recs, seed=42).\\\n",
    "                                    batch(BATCH_SIZE)\n",
    "bilstm.fit(encoded_train_batched, epochs=15)\n",
    "bilstm.evaluate(encoded_test.batch(BATCH_SIZE))\n",
    "print(\"BASELINE TRAINED\")"
   ]
  },
  {
   "cell_type": "markdown",
   "metadata": {},
   "source": [
    "# With Snorkel Labeled Data"
   ]
  },
  {
   "cell_type": "code",
   "execution_count": 8,
   "metadata": {
    "ExecuteTime": {
     "end_time": "2020-09-07T08:19:40.223991Z",
     "start_time": "2020-09-07T08:19:39.831552Z"
    }
   },
   "outputs": [
    {
     "name": "stdout",
     "output_type": "stream",
     "text": [
      "showing hist of additional data\n"
     ]
    },
    {
     "data": {
      "text/plain": [
       "<matplotlib.axes._subplots.AxesSubplot at 0x7fdda16dba10>"
      ]
     },
     "execution_count": 8,
     "metadata": {},
     "output_type": "execute_result"
    },
    {
     "data": {
      "image/png": "[encoded data removed]",
      "text/plain": [
       "<Figure size 432x288 with 1 Axes>"
      ]
     },
     "metadata": {
      "needs_background": "light"
     },
     "output_type": "display_data"
    }
   ],
   "source": [
    "# labelled version of training data split\n",
    "p1 = pd.read_pickle(\"snorkel_train_labeled.df\")\n",
    "\n",
    "p2 = pd.read_pickle(\"snorkel-unsup-nbs-v2.df\")\n",
    "p2 = p2.drop(columns=['snorkel']) # so that everything aligns\n",
    "\n",
    "# now concatenate the three DFs\n",
    "p2 = pd.concat([train_small, p1, p2]) # training plus snorkel labelled data\n",
    "print(\"showing hist of additional data\")\n",
    "\n",
    "# now balance the labels\n",
    "pos = p2[p2.sentiment == 1]\n",
    "neg = p2[p2.sentiment == 0]\n",
    "recs = min(pos.shape[0], neg.shape[0])\n",
    "pos = pos.sample(n=recs, random_state=42)\n",
    "neg = neg.sample(n=recs, random_state=42)\n",
    "\n",
    "p3 = pd.concat((pos,neg))\n",
    "p3.sentiment.hist()"
   ]
  },
  {
   "cell_type": "code",
   "execution_count": 11,
   "metadata": {
    "ExecuteTime": {
     "end_time": "2020-09-07T19:54:32.125244Z",
     "start_time": "2020-09-07T19:54:32.105741Z"
    }
   },
   "outputs": [
    {
     "name": "stdout",
     "output_type": "stream",
     "text": [
      "<class 'pandas.core.frame.DataFrame'>\n",
      "Int64Index: 33914 entries, 6975 to 7453\n",
      "Data columns (total 3 columns):\n",
      "filename     33914 non-null object\n",
      "review       33914 non-null object\n",
      "sentiment    33914 non-null int64\n",
      "dtypes: int64(1), object(2)\n",
      "memory usage: 1.0+ MB\n"
     ]
    }
   ],
   "source": [
    "p3.info()"
   ]
  },
  {
   "cell_type": "code",
   "execution_count": 9,
   "metadata": {
    "ExecuteTime": {
     "end_time": "2020-09-07T08:19:47.190302Z",
     "start_time": "2020-09-07T08:19:40.225385Z"
    }
   },
   "outputs": [],
   "source": [
    "# remove markup\n",
    "cleaned_unsup_reviews = p3.review.apply(lambda x: BeautifulSoup(x).text)\n",
    "snorkel_reviews = pd.concat((cleaned_reviews, cleaned_unsup_reviews))\n",
    "snorkel_labels = pd.concat((train_small.sentiment, p3.sentiment))\n",
    "\n",
    "# convert pandas DF in to tf.Dataset\n",
    "snorkel_train = tf.data.Dataset.from_tensor_slices((snorkel_reviews.values,\n",
    "                                            snorkel_labels.values))\n",
    "encoded_snorkel_train = snorkel_train.map(encode_tf_fn,\n",
    "                            num_parallel_calls=tf.data.experimental.AUTOTUNE)"
   ]
  },
  {
   "cell_type": "code",
   "execution_count": 10,
   "metadata": {
    "ExecuteTime": {
     "end_time": "2020-09-07T08:47:50.531000Z",
     "start_time": "2020-09-07T08:19:47.192001Z"
    }
   },
   "outputs": [
    {
     "name": "stdout",
     "output_type": "stream",
     "text": [
      "Model: \"sequential_1\"\n",
      "_________________________________________________________________\n",
      "Layer (type)                 Output Shape              Param #   \n",
      "=================================================================\n",
      "embedding_1 (Embedding)      (100, None, 64)           529024    \n",
      "_________________________________________________________________\n",
      "bidirectional_2 (Bidirection (100, None, 128)          66048     \n",
      "_________________________________________________________________\n",
      "dropout_2 (Dropout)          (100, None, 128)          0         \n",
      "_________________________________________________________________\n",
      "bidirectional_3 (Bidirection (100, 128)                98816     \n",
      "_________________________________________________________________\n",
      "dropout_3 (Dropout)          (100, 128)                0         \n",
      "_________________________________________________________________\n",
      "dense_1 (Dense)              (100, 1)                  129       \n",
      "=================================================================\n",
      "Total params: 694,017\n",
      "Trainable params: 694,017\n",
      "Non-trainable params: 0\n",
      "_________________________________________________________________\n",
      "Train for 359 steps\n",
      "Epoch 1/20\n",
      "359/359 [==============================] - 92s 257ms/step - loss: 0.4399 - accuracy: 0.7860 - Precision: 0.7900 - Recall: 0.7793\n",
      "Epoch 2/20\n",
      "359/359 [==============================] - 82s 227ms/step - loss: 0.3171 - accuracy: 0.8721 - Precision: 0.8634 - Recall: 0.8840\n",
      "Epoch 3/20\n",
      "359/359 [==============================] - 82s 227ms/step - loss: 0.2695 - accuracy: 0.8928 - Precision: 0.8869 - Recall: 0.9005\n",
      "Epoch 4/20\n",
      "359/359 [==============================] - 82s 227ms/step - loss: 0.2177 - accuracy: 0.9180 - Precision: 0.9105 - Recall: 0.9272\n",
      "Epoch 5/20\n",
      "359/359 [==============================] - 82s 228ms/step - loss: 0.1732 - accuracy: 0.9376 - Precision: 0.9337 - Recall: 0.9422\n",
      "Epoch 6/20\n",
      "359/359 [==============================] - 82s 228ms/step - loss: 0.1443 - accuracy: 0.9498 - Precision: 0.9456 - Recall: 0.9545\n",
      "Epoch 7/20\n",
      "359/359 [==============================] - 82s 228ms/step - loss: 0.1215 - accuracy: 0.9575 - Precision: 0.9535 - Recall: 0.9618\n",
      "Epoch 8/20\n",
      "359/359 [==============================] - 82s 227ms/step - loss: 0.1034 - accuracy: 0.9647 - Precision: 0.9625 - Recall: 0.9671\n",
      "Epoch 9/20\n",
      "359/359 [==============================] - 82s 227ms/step - loss: 0.0899 - accuracy: 0.9691 - Precision: 0.9674 - Recall: 0.9710\n",
      "Epoch 10/20\n",
      "359/359 [==============================] - 82s 227ms/step - loss: 0.0802 - accuracy: 0.9724 - Precision: 0.9711 - Recall: 0.9738\n",
      "Epoch 11/20\n",
      "359/359 [==============================] - 82s 228ms/step - loss: 0.0677 - accuracy: 0.9772 - Precision: 0.9761 - Recall: 0.9784\n",
      "Epoch 12/20\n",
      "359/359 [==============================] - 82s 228ms/step - loss: 0.0569 - accuracy: 0.9806 - Precision: 0.9799 - Recall: 0.9813\n",
      "Epoch 13/20\n",
      "359/359 [==============================] - 82s 228ms/step - loss: 0.0542 - accuracy: 0.9814 - Precision: 0.9804 - Recall: 0.9825\n",
      "Epoch 14/20\n",
      "359/359 [==============================] - 82s 227ms/step - loss: 0.0442 - accuracy: 0.9855 - Precision: 0.9851 - Recall: 0.9859\n",
      "Epoch 15/20\n",
      "359/359 [==============================] - 82s 228ms/step - loss: 0.0492 - accuracy: 0.9829 - Precision: 0.9824 - Recall: 0.9834\n",
      "Epoch 16/20\n",
      "359/359 [==============================] - 82s 227ms/step - loss: 0.0380 - accuracy: 0.9877 - Precision: 0.9873 - Recall: 0.9882\n",
      "Epoch 17/20\n",
      "359/359 [==============================] - 82s 228ms/step - loss: 0.0382 - accuracy: 0.9868 - Precision: 0.9858 - Recall: 0.9878\n",
      "Epoch 18/20\n",
      "359/359 [==============================] - 82s 228ms/step - loss: 0.0343 - accuracy: 0.9889 - Precision: 0.9884 - Recall: 0.9895\n",
      "Epoch 19/20\n",
      "359/359 [==============================] - 82s 228ms/step - loss: 0.0313 - accuracy: 0.9897 - Precision: 0.9896 - Recall: 0.9897\n",
      "Epoch 20/20\n",
      "359/359 [==============================] - 82s 227ms/step - loss: 0.0339 - accuracy: 0.9886 - Precision: 0.9879 - Recall: 0.9893\n",
      "Checking on Test Set:\n",
      "250/250 [==============================] - 36s 145ms/step - loss: 1.2806 - accuracy: 0.7623 - Precision: 0.7697 - Recall: 0.7487\n"
     ]
    },
    {
     "data": {
      "text/plain": [
       "[1.2806373039484025, 0.76232, 0.76965463, 0.74872]"
      ]
     },
     "execution_count": 10,
     "metadata": {},
     "output_type": "execute_result"
    }
   ],
   "source": [
    "# Length of the vocabulary\n",
    "vocab_size = imdb_encoder.vocab_size\n",
    "\n",
    "# Number of RNN units\n",
    "rnn_units = 64\n",
    "\n",
    "# Embedding size\n",
    "embedding_dim = 64\n",
    "\n",
    "#batch size\n",
    "BATCH_SIZE = 100\n",
    "\n",
    "dropout = 0.3\n",
    "bilstm2 = build_model_bilstm(\n",
    "  vocab_size = vocab_size,\n",
    "  embedding_dim=embedding_dim,\n",
    "  rnn_units=rnn_units,\n",
    "  batch_size=BATCH_SIZE,\n",
    "  dropout=dropout)\n",
    "\n",
    "bilstm2.summary()\n",
    "\n",
    "bilstm2.compile(loss='binary_crossentropy',\n",
    "             optimizer='adam',\n",
    "             metrics=['accuracy', 'Precision', 'Recall'])\n",
    "\n",
    "shuffle_size = snorkel_reviews.shape[0] // BATCH_SIZE * BATCH_SIZE\n",
    "encoded_snorkel_batched = encoded_snorkel_train.shuffle(buffer_size=shuffle_size,\n",
    "                                        seed=42).batch(BATCH_SIZE,\n",
    "                                        drop_remainder=True)\n",
    "\n",
    "bilstm2.fit(encoded_snorkel_batched, epochs=20)\n",
    "\n",
    "print(\"Checking on Test Set:\")\n",
    "bilstm2.evaluate(encoded_test.batch(BATCH_SIZE))"
   ]
  },
  {
   "cell_type": "markdown",
   "metadata": {},
   "source": []
  },
  {
   "cell_type": "code",
   "execution_count": null,
   "metadata": {},
   "outputs": [],
   "source": []
  }
 ],
 "metadata": {
  "kernelspec": {
   "display_name": "TF 2.1 (GPU)/Py3.7.5",
   "language": "python",
   "name": "tf21g"
  },
  "language_info": {
   "codemirror_mode": {
    "name": "ipython",
    "version": 3
   },
   "file_extension": ".py",
   "mimetype": "text/x-python",
   "name": "python",
   "nbconvert_exporter": "python",
   "pygments_lexer": "ipython3",
   "version": "3.7.5"
  },
  "toc": {
   "base_numbering": 1,
   "nav_menu": {},
   "number_sections": true,
   "sideBar": true,
   "skip_h1_title": false,
   "title_cell": "Table of Contents",
   "title_sidebar": "Contents",
   "toc_cell": false,
   "toc_position": {},
   "toc_section_display": true,
   "toc_window_display": true
  },
  "varInspector": {
   "cols": {
    "lenName": 16,
    "lenType": 16,
    "lenVar": 40
   },
   "kernels_config": {
    "python": {
     "delete_cmd_postfix": "",
     "delete_cmd_prefix": "del ",
     "library": "var_list.py",
     "varRefreshCmd": "print(var_dic_list())"
    },
    "r": {
     "delete_cmd_postfix": ") ",
     "delete_cmd_prefix": "rm(",
     "library": "var_list.r",
     "varRefreshCmd": "cat(var_dic_list()) "
    }
   },
   "types_to_exclude": [
    "module",
    "function",
    "builtin_function_or_method",
    "instance",
    "_Feature"
   ],
   "window_display": false
  }
 },
 "nbformat": 4,
 "nbformat_minor": 2
}
