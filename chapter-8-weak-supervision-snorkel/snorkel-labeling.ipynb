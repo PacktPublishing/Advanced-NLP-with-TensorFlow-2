{
 "cells": [
  {
   "cell_type": "markdown",
   "metadata": {},
   "source": [
    "# Imports"
   ]
  },
  {
   "cell_type": "code",
   "execution_count": 1,
   "metadata": {
    "ExecuteTime": {
     "end_time": "2020-09-07T09:08:54.466473Z",
     "start_time": "2020-09-07T09:08:53.347213Z"
    }
   },
   "outputs": [],
   "source": [
    "import numpy as np\n",
    "import pandas as pd\n",
    "import glob\n",
    "import re\n",
    "import sys\n",
    "\n",
    "from bs4 import BeautifulSoup\n",
    "\n",
    "from snorkel.labeling.lf import labeling_function\n",
    "from snorkel.labeling import LabelingFunction\n",
    "from snorkel.labeling.model import LabelModel\n",
    "from snorkel.labeling import PandasLFApplier\n",
    "from snorkel.labeling import LFAnalysis\n",
    "from snorkel.labeling.model import MajorityLabelVoter"
   ]
  },
  {
   "cell_type": "markdown",
   "metadata": {},
   "source": [
    "# Load Data"
   ]
  },
  {
   "cell_type": "code",
   "execution_count": 2,
   "metadata": {
    "ExecuteTime": {
     "end_time": "2020-09-07T09:08:58.133986Z",
     "start_time": "2020-09-07T09:08:54.874838Z"
    }
   },
   "outputs": [],
   "source": [
    "def load_reviews(path, columns=[\"filename\", 'review']):\n",
    "    assert len(columns) == 2\n",
    "    l = list()\n",
    "    for filename in glob.glob(path):\n",
    "        # print(filename)\n",
    "        with open(filename, 'r') as f:\n",
    "            review = f.read()\n",
    "            l.append((filename, review))\n",
    "    return pd.DataFrame(l, columns=columns)\n",
    "\n",
    "unsup_df = load_reviews(\"./aclImdb/train/unsup/*.txt\")\n",
    "\n",
    "def load_labelled_data(path, neg='/neg/', \n",
    "                       pos='/pos/', shuffle=True):\n",
    "    neg_df = load_reviews(path + neg + \"*.txt\")\n",
    "    pos_df = load_reviews(path + pos + \"*.txt\")\n",
    "    neg_df['sentiment'] = 0\n",
    "    pos_df['sentiment'] = 1\n",
    "    df = pd.concat([neg_df, pos_df], axis=0)\n",
    "    if shuffle:\n",
    "        df = df.sample(frac=1, random_state=42)\n",
    "    return df\n",
    "\n",
    "train_df = load_labelled_data(\"./aclImdb/train/\")\n",
    "\n",
    "test_df = load_labelled_data(\"./aclImdb/test/\")"
   ]
  },
  {
   "cell_type": "markdown",
   "metadata": {
    "ExecuteTime": {
     "end_time": "2020-08-25T07:05:16.582012Z",
     "start_time": "2020-08-25T07:05:16.579622Z"
    }
   },
   "source": [
    "# Labeling Functions"
   ]
  },
  {
   "cell_type": "code",
   "execution_count": 3,
   "metadata": {
    "ExecuteTime": {
     "end_time": "2020-09-07T09:08:58.184859Z",
     "start_time": "2020-09-07T09:08:58.182306Z"
    }
   },
   "outputs": [],
   "source": [
    "# Constants\n",
    "POSITIVE = 1\n",
    "NEGATIVE = 0\n",
    "ABSTAIN = -1"
   ]
  },
  {
   "cell_type": "markdown",
   "metadata": {},
   "source": [
    "## Negative Sentiment Labeling Functions"
   ]
  },
  {
   "cell_type": "code",
   "execution_count": 4,
   "metadata": {
    "ExecuteTime": {
     "end_time": "2020-09-07T09:08:58.245010Z",
     "start_time": "2020-09-07T09:08:58.232422Z"
    }
   },
   "outputs": [
    {
     "data": {
      "text/plain": [
       "[\"If you're in the mood for some dopey light entertainment, this will pass the time. If you expect one jot of plausibility, don't bother. To me, the dance scene looked like it was exaggerated for comic effect; it didn't look especially hot or skilled.\",\n",
       " \"Bottom of the barrel, unimaginative, and practically unwatchable remake of THE ROAD WARRIOR. This film follows the exact plot as the Filipino film STRYKER and is worse by far! Bad acting, dialog, effects, dubbing, pacing, action sequences... The list goes on and on. Italy made literally dozens of Road Warrior rip-offs in the early 80's, some good, some bad. This is the worst by far, no contest. Not only was the mood of the film completely bleak and miserable, the experience of sitting through this one is a bore and a half. There was 1 (one) good chase sequence towards the beginning of the movie, and a cool shot of a man holding a hand grenade exploding. But EVERYTHING else about this movie seriously reeks! For actual post-nuke fun, go track down a copy of ENDGAME, AFTER THE FALL OF NEW YORK, or ESCAPE FROM THE BRONX instead. They're much more enjoyable than this rubbish.\",\n",
       " \"It's a bad movie, it seems like there is only 5 police in HK, they were not using there gun and this makes me feel like a Jacky Chan's movie. All the time they were using their gun to point at the suspect only. When they finally use their gun is when they kill each other, what a funny movie. In The movie, it's like all the good guys died without a reason.<br /><br />They story line of the movie also sucks, the story jump here and there and bored people. But if you wanted to see a bloody movie, I think this is only a OK type of movie, I think U.S. made zombie movie is more bloodier than this one\",\n",
       " 'Very low-budget police procedural film about homicide detectives trying to solve the murder of a woman whose body turns up in a stolen car in Central Park, and their only clue is a tattoo on her arm. Although released by RKO, this has the look of an independent production that was picked up by the studio for distribution. The cast and crew, with a few exceptions--among them a young and uncredited Jack Lord, director Edward Montagne and cameraman William Steiner--are comprised of complete unknowns, and it shows. The performances are universally sub-par and wouldn\\'t pass muster in a high school training film, the direction is stodgy and choppy and, as mentioned previously, there\\'s no chemistry whatsoever between the lead actors. However, despite the film\\'s many shortcomings, it does have a few good points. The location shooting in New York City, and the film\\'s ultra-low budget, gives it a gritty authenticity much like that of the far superior \"The Naked City\", a shootout in a dark basement is decently handled, and some of the investigating procedures are clever. Otherwise, it\\'s not much to write home about. It is worth a look, however, for a glimpse at the seamier sections of New York City in the early 1950s, and old-car buffs will be ecstatic to see the legions of \\'30s and \\'40s cars in the streets.<br /><br />.',\n",
       " \"If you are wondering where many of the conspiracy theories and paranoid ideas about the the UN, Israel, and international affairs come from, look no further.<br /><br />This isn't a supernatural Hollywood film loosely based on some biblical passage. Instead, this movie was made by a company (Cloud Ten Pictures) with a political and religious agenda. As a movie, the end result at times more looks like clips out of a televangelism program (complete with family prayers and light breaking through church windows while harps are playing).<br /><br />For mainstream viewers, it may be hard to believe, but many people believe in this stuff literally, as presented in the movie. And that, perhaps, makes the movie important. You probably won't find a more concise exposition of the bizarre views of a significant number of your fellow citizens. So, if you view it, view it as a social/cultural document. If you are at all media savvy, you don't need to be warned about the unsubtle attempts at propaganda and manipulation in the movie.\",\n",
       " \"In a summer that also boasted such repugnant stinkers as Snakes on a Plane and The Da Vinci Code, that's a pretty bold statement. But I stand by it nonetheless. Superman Returns, like King Kong 6 months before it, is overlong, hyper-indulgent and with CGI up to the eyeballs. My God, this stuff is doing my head in.<br /><br />Richard Donner had the idea of 'keep it real' for his 2 outings. And I do find his approach to the special and optical effects to be the most appropriate. Brian Singer bombards us with so much CGI that it really takes you out of the story and constantly reminds you that you are watching a wannabe blockbuster that thinks that the only way to impress an audience is to spend $250 million (a totally irresponsible amount of money) on obnoxious visual effects that don't live up to the hype. We've seen everything and been everywhere that CGI can take us. There's no real atmosphere or involvement in this. And for a film that is 95% made up of this crap...well you figure it out.<br /><br />I've read so many reviews from fanboy critics about how the movie has 'soul' or 'a human heart' or 'tender character moments'. Puh-lease! We've already had brooding superheros silently screaming 'you'd love me if you knew who I am' dozens of times already in recent years and SR offers absolutely NOTHING new in this regard. Even the plot is recycled garbage. Lex Luthor (a seriously mis-cast and hammy Kevin Spacey) plotting to destroy the landmass of America was done in the first film already! And, well...that's your lot! It's amazing that they managed to draw out this junk to 2.5 painful hours! Even if the cast were likable it would make it less unbearable. But Brandon Routh has the on screen personality of a mahogany hat-stand, Kate Bosworth is completely unconvincing as a Pulitzer Prize-winning journalist, James Marsden is 250% wooden, as usual and Kevin Spacey really needs to either fire his agent or acquire some better judgement. The only cast member I liked was the lovely Parker Posey. But I'm into weird-looking girls.<br /><br />Every year films like this get bigger and more bombastic. Pretty soon we'll have $300 million films. Studios need to realise that maybe they should start looking down instead of looking up. For all the money that Warner spent on this pile of crap, for all the resources that this movie cost to make...was it worth it? In my opinion, certainly not! This garbage has put me of Superman for life!\",\n",
       " 'This is the first time I ever saw a movie with Jamie Foxx, and I bet it will be my last. I failed to see why he was funny, although people in the audience thought it was very funny when he made a face to the camera, or for saying \"I am going to take a shower\".<br /><br />The plot is completely predictable. The bad guy comes after the good guy. The good guy has a woman, so the bad guy uses her. In between, the officials screwing up. The final scenes are utterly unbelievable. You spend 2 years and millions of dollars chasing a guy, but you don\\'t do your home work to solve a trivial riddle?<br /><br />There\\'s no great acting, there isn\\'t much of a plot or storyline, and the shooting is done MTV style. Don\\'t waste your money on this one.<br /><br />',\n",
       " \"I went to see this movie simply to see what all the hype is about, and I was as disappointed as surprised about how it got 6(?) Oscars and 7.9 rating on IMDb as of today.<br /><br />Kathryn Bigelow should be the luckiest director ever to win the best picture and best direction Oscar for this sort of a really really bad movie and I wonder why? Did the totally unrealistic 'cowboy' bomb disposal-man storyline mean anything to somebody that I failed see? Why did I keep getting the mental image that this movie was a remake of some old bad Western movie about a cowboy doing 'brave deeds' in the Wild Wild West infected with 'evil' Red Indians; but just that it was set in a different background this time? Was it given the Oscars because the director being ex of James Cameron, and made it a nice underdog (gossipy) story for day time TV shows to munch on? Or was it some sort of Emperor's Clothes syndrome - where most people realized it was junk but just couldn't say so because others didn't seem to be saying it out aloud?<br /><br />And finally what was with that sniper scene where they showed the shell casing dropping in high-resolution-super-slow-mo as if to convey a 'deep message' or something? Something in the lines of 'EOD guys make good snipers all of a sudden and they will get the filthy terrorists all the time'? Was it just me who felt like there were so many bits and pieces here and there in the movie squeezed in for no apparent reason? And you can get the Oscars for editing and directing for that??<br /><br />If you haven't seen this yet, don't waste your money on tickets. Wait till they run it on TV in a few years. You are not going to miss much.\",\n",
       " 'Two qualifiers right up front: I actually think Joe Don Baker can be good or even great with the right material and the right director (the \"Cape Fear\" remake, a small role in \"Goldeneye\", \"Walking Tall\"). And I even liked Baker in \"Mitchell\", because he was playing an anti-hero who was SUPPOSED to be unlikeable. Yes, MST3K\\'s coverage was hilarious, but they took a lot of cheap shots at Baker - that he didn\\'t deserve - to keep things lively and entertaining - he was appropriate to the level and tone of the movie, and he was the best part of the movie.<br /><br />\"Final Justice\" seems to be more of the same, but in spite of the exotic locations and the \"cowboy frontier justice\" theme, it is quite a bit weaker than \"Mitchell\". And the main reason is that Baker\\'s character, as written, is an idiot. The movie has the conceit that because Baker embodies old style frontier machismo, he challenges his opponents to old style mano-a-mano quick-draw contests. And because he\\'s so tough and macho, he always wins, even when he\\'s hurt, wounded, outnumbered, etc.<br /><br />That\\'s a conceit with a lot of potential (it worked for Gary Cooper), even if it condemns the film to \"B\" movie status. But Baker is so frigging stupid and obsessive that he needlessly challenges three of the bad guy\\'s henchman to a showdown in a public market, with civilians all over the place. He COULD have simply shadowed them to the chief bad guy\\'s headquarters (which was why he was following them in the first place) and they never would have noticed. Or he could have gotten the drop on them and forced them to surrender, and gotten one of the henchmen to take him to headquarters at gun point. But no, he has to be a bush league hot dog and a macho blockhead, and so he gets a child taken as a hostage in the ensuing shootout! <br /><br />This is a guy we are supposed to admire? <br /><br />The whole movie is basically like this. Most of the supporting actors are somewhere between OK (the henchmen) to pretty good (the chief bad guy and his father, who are two well known European actors - they just go through the motions, but they are pros and even hamming it up they are decent). But through it all, Baker\\'s character pulls silly , unproductive stunts and mistakes that get at least two relatively innocent people killed, plus a couple of bad guys who might have been taken alive without the use of deadly force.<br /><br />On the positive side, since 90% of the movie is set on Malta or in the Mediterranean, you get to see lots of pretty scenery and lots of nice and exotic looking extras. And really, Baker himself may be on the heavy side and slightly dyspeptic, but he isn\\'t that bad...certainly not the tub o\\' lard that this films critics (including Mike and the Bots in their hilarious coverage) seem to think.<br /><br />In short, this movie is good for video wallpaper, but the viewer should not pay any attention to it.',\n",
       " 'So, back when Herbie made his first appearance, I was perfectly happy watching Dean Jones mug away. I only wanted to be entertained for a few hours and eat overly buttered popcorn. Now, unfortunately, I have expectations of a riveting/delightful story whenever I watch a movie, if I\\'m not on some sort of medication. And this is another good movie for the medicated. There are no major laughs, no complex plot lines, no difficult twists. Herbie Fully Loaded is great for the fully loaded.<br /><br />This was the first time I had seen La Lohan on the screen since she swapped places with Jamie Lee Curtis (I thought she was excellent in that), and I can\\'t say I was terribly impressed this time around. Aside from her constantly changing and distractingly unnatural hair color, she just didn\\'t ring true as the kid next door who had spent a lifetime hanging around road racers. Her \\'need for speed\\' wasn\\'t portrayed consistently in the film - perhaps it was elsewhere - she looked older than her part, and seemed to always be looking for something (a party? designer togs? new place to spend money?) off set. I couldn\\'t see any chemistry with Justin Long; that romance seemed obligatory at best. The only time Lindsay appeared engaged was when she was interacting with Matt Dillon, who I thought was appropriately over the top as Evil Bad Guy Trip Murphy.<br /><br />It was great to see Herbie again, and I loved the movie intro with material from the old movies. If Disney had popped out with some Car 53 jewelry, I might have worn some just to be loyal. His new feature (?) was a little inconsistent (does he channel the thoughts of his driver? Does he now skateboard?) but whatever. We all knew how it was going to end, but I do wish he had ended up with someone a little less dopey than Maggie. And my head still hurts from that lesson Maggie and we viewers had hammered home. <br /><br />What would have made the movie worthwhile? Have the old Herbie in a real story with a real plot - at the very least, Herbie\\'s as good as Lassie - but clearly that\\'s asking too much. Why is it that Disney always goes back to the same well as \"Herbie Goes Bananas\" and \"the Computer That Wore Tennis Shoes\" when it comes to innovation? <br /><br />I\\'m sure this was a great movie for kids and those with no expectations. For the rest of us....it\\'s for when you have the \\'flu and just can\\'t take the suspense of Rear Window.']"
      ]
     },
     "execution_count": 4,
     "metadata": {},
     "output_type": "execute_result"
    }
   ],
   "source": [
    "# Sample some negative reviews and write some functions\n",
    "train_df[train_df.sentiment == 0].review[:10].tolist()"
   ]
  },
  {
   "cell_type": "code",
   "execution_count": 5,
   "metadata": {
    "ExecuteTime": {
     "end_time": "2020-09-07T09:08:58.520581Z",
     "start_time": "2020-09-07T09:08:58.493351Z"
    }
   },
   "outputs": [],
   "source": [
    "@labeling_function()\n",
    "def atrocious(x):\n",
    "    if not isinstance(x.review, str):\n",
    "        return ABSTAIN\n",
    "    ex1 = \"atrocious\"\n",
    "    if ex1 in x.review.lower():\n",
    "        return NEGATIVE\n",
    "    return ABSTAIN\n",
    "\n",
    "@labeling_function()\n",
    "def crap(x):\n",
    "    if not isinstance(x.review, str):\n",
    "        return ABSTAIN\n",
    "    ex1 = \"crap\"\n",
    "    if ex1 in x.review.lower():\n",
    "        return NEGATIVE\n",
    "    return ABSTAIN\n",
    "\n",
    "@labeling_function()\n",
    "def garbage(x):\n",
    "    if not isinstance(x.review, str):\n",
    "        return ABSTAIN\n",
    "    ex1 = \"garbage\"\n",
    "    if ex1 in x.review.lower():\n",
    "        return NEGATIVE\n",
    "    return ABSTAIN\n",
    "\n",
    "\n",
    "@labeling_function()\n",
    "def terrible(x):\n",
    "    if not isinstance(x.review, str):\n",
    "        return ABSTAIN\n",
    "    ex1 = \"terrible\"\n",
    "    if ex1 in x.review.lower():\n",
    "        return NEGATIVE\n",
    "    return ABSTAIN\n",
    "\n",
    "@labeling_function()\n",
    "def piece_of(x):\n",
    "    if not isinstance(x.review, str):\n",
    "        return ABSTAIN\n",
    "    ex1 = {\"piece\", \"of\", \"junk\"}\n",
    "    st_rvw = set(x.review.lower().split())\n",
    "    if st_rvw.issuperset(ex1):\n",
    "        return NEGATIVE\n",
    "    return ABSTAIN\n",
    "\n",
    "@labeling_function()\n",
    "def woefully_miscast(x):\n",
    "    if not isinstance(x.review, str):\n",
    "        return ABSTAIN\n",
    "    ex1 = \"woeful\"\n",
    "    ex2 = \"miscast\"\n",
    "    if ex1 in x.review.lower() or ex2 in x.review.lower():\n",
    "        return NEGATIVE\n",
    "    return ABSTAIN\n",
    "\n",
    "@labeling_function()\n",
    "def bad_acting(x):\n",
    "    if not isinstance(x.review, str):\n",
    "        return ABSTAIN\n",
    "    ex1 = \"bad\"\n",
    "    ex2 = \"acting\"\n",
    "    if ex1 in x.review.lower() and ex2 in x.review.lower():\n",
    "        return NEGATIVE\n",
    "    return ABSTAIN\n",
    "\n",
    "@labeling_function()\n",
    "def cheesy_dull(x):\n",
    "    if not isinstance(x.review, str):\n",
    "        return ABSTAIN\n",
    "    ex1 = \"cheesy\"\n",
    "    ex2 = \"dull\"\n",
    "    if ex1 in x.review.lower() or ex2 in x.review.lower():\n",
    "        return NEGATIVE\n",
    "    return ABSTAIN\n",
    "    \n",
    "@labeling_function()\n",
    "def disappoint(x):\n",
    "    if not isinstance(x.review, str):\n",
    "        return ABSTAIN\n",
    "    ex1 = \"disappoint\"\n",
    "    if ex1 in x.review.lower():\n",
    "        return NEGATIVE\n",
    "    return ABSTAIN\n",
    "\n",
    "@labeling_function()\n",
    "def unsatisfied(x):\n",
    "    if not isinstance(x.review, str):\n",
    "        return ABSTAIN\n",
    "    ex1 = \"unsatisf\"  # unsatisfactory, unsatisfied\n",
    "    if ex1 in x.review.lower():\n",
    "        return NEGATIVE\n",
    "    return ABSTAIN\n",
    "\n",
    "@labeling_function()\n",
    "def ridiculous(x):\n",
    "    if not isinstance(x.review, str):\n",
    "        return ABSTAIN\n",
    "    ex1 = \"ridiculous\"  \n",
    "    if ex1 in x.review.lower():\n",
    "        return NEGATIVE\n",
    "    return ABSTAIN\n",
    "\n",
    "@labeling_function()\n",
    "def bad(x):\n",
    "    if not isinstance(x.review, str):\n",
    "        return ABSTAIN\n",
    "    ex1 = \"bad\"  \n",
    "    if x.review.lower().count(ex1) >= 3:\n",
    "        return NEGATIVE\n",
    "    return ABSTAIN\n",
    "\n",
    "neg_lfs = [atrocious, terrible, piece_of, woefully_miscast, bad_acting,\n",
    "          cheesy_dull, disappoint, crap, garbage, unsatisfied,\n",
    "          ridiculous, bad]"
   ]
  },
  {
   "cell_type": "markdown",
   "metadata": {},
   "source": [
    "## Positive Sentiment Labeling Functions"
   ]
  },
  {
   "cell_type": "code",
   "execution_count": 6,
   "metadata": {
    "ExecuteTime": {
     "end_time": "2020-09-07T09:08:59.645499Z",
     "start_time": "2020-09-07T09:08:59.633742Z"
    }
   },
   "outputs": [
    {
     "data": {
      "text/plain": [
       "['*****Spoilers herein*****<br /><br />What really scares you? Killer sharks, or maybe ghosts trying to bring back a message? Maybe a chainsaw wielding psychopath?<br /><br />Maybe. But those fears don\\'t even compare to a horror which people dare not even speak of or consider--and that is the death of one\\'s own child. \"Pet Sematary\" taps this base, primal adult fear, and then takes it to places that most could not bear to explore.<br /><br />I\\'ve read comments about this film that include poor acting, characters making stupid decisions, etc. I disagree. The acting is actually first rate for a film like this. Maybe it is impossible for many to imagine the desperation resulting from such a scenario. But the film\\'s events are not only logical, they may be absolutely inevitable if such a scenario were possible. This is the true horror of \"Pet Sematary\": It isn\\'t that pets and people come back from the dead as evil killers who hunt with knives and scalpels, it is that anyone who has lost a child could become so desperate as to commit the crimes that Louis Creed does. Despite warning, or even past history.<br /><br />The movie takes those willing to go with it to the depths of a desperate human heart. The heart of a protector trying to make up for not being able to protect. And the results are horrifying. In fact, when the film dives into slasher territory near the end, it\\'s almost a letdown, although I believe it\\'s perfectly logical how it got there.<br /><br />I am a true horror fan, and I contend that this is one of the scariest horror films ever made. If you don\\'t think so, see it again after you have children.',\n",
       " \"Fearful Symmetry is a pleasant episode with a few faults. The first thing about the episode is that it takes place near Mountain Home Air Force Base in southwest Idaho. Season one's 'Deep Throat' takes place near Ellens Air Base, also in southwest Idaho. I'm wondering if the air force bases are one and the same but they decided to use the real name in Fearful Symmetry. Mulder and Scully have some good dialog, always a plus. Ed Meecham, the zoo keeper, reminds me of cranky, old school teachers. They must have liked children at one time, you just can't imagine how. Just like he must have cared more for animals at one point. I liked the concept of the episode, but I felt it had some inconsistencies. If aliens are so adept at abducting humans and returning them safely, why can't they put the animal back in the right place? And the aliens are just now having problems returning the animals? I don't buy Mulder's theory of a problem with the space-time continuum. As if he's an expert on that. I also thought Jayne Atkinson's performance as Willa Ambrose was not well done. Besides those nitpicks, I still enjoyed this episode because of the intriguing concept of aliens harvesting animal DNA as well as human DNA.\",\n",
       " \"I found the storyline in this movie to be very interesting. Best of all it left out the usual sex and violence (they're getting old) inserted in many movies. The movie was well done in its flashbacks to days gone by in that area of the Southwest. The acting was also superb.\",\n",
       " \"xica da Silva is one of the best Brazilians opera soap ever! the a black slave's story that becomes queen of a small villa when conquering the most powerful man's of the area love, in the colonial period of the brazil dominated by Portugal, that explored its diamonds. The largest xica enemy, violante, bride that it was changed by xica, is a woman of big it influences the Portugal king close to and does to take revenge of the slave of everything. Very religious person, she is a picture of the hypocritical society and religious of the time, she dedicates its life the morality of the villa that was committed by xica, that is a woman full of lusts that it faces the society of the time to preach and it helps the slaves of the area. The story also bill with forbidden loves, sorceries and vampires and religious fervor. Xica da Silva does with that you don't want to lose a I only surrender, from beginning to end!\",\n",
       " 'It took a long time until I could find the title in a special videothek in Berlin, and I was lucky to find an english version with hollandish undertitles. I think it´s one of the best horrormovies ever. It seems strange for me that some people call this movie a black comedy. I must admit, I wasn´t able to laugh about, when I saw it the first time (and it was the same with the second time!) On the one hand Trelkovski seems so nice and even cute in his shy behaviour, but on the other hand he beats this boy on the playground and there is no explanation for that. But the most weired thing is of course his transformation in Simone Choule and the fact, that he doesn´t know, who he really is. His halluzinations are the most terrifying in this movie. Of course it´s all in his mind, but is it this flat that brings out this female side of him or was it also before he moved in - I think that´s an interesting question. His shizophrenic behaviour is hard to understand and it´s horrible to see his two sides or identities fighting against each other. The result of it is that he cuts his hand first and later jumps out of his/her window. But this terrible cry - does that mean, that all will repeat again and again and again... that his soul is in a cage or something? And these egyptian hieroglyphs and other egyptian stuff ? The fact, that he/she looks like a mummy in the Hospital - that´s not an incident, but a clue in my point of view.',\n",
       " \"I think that the idea of the plot is perfect for exploring first of all the emotional experiences of the people involved and second, as someone else wrote in a comment, the implications of this kind of relationships (incest and lesbianism) in the romanian society.<br /><br />so... to begin with the second aspect... to make it short, it wasn't visible at all...<br /><br />as for the first.. as i said, it had much more potential... i think that those kind of relationships carry much more tension... much more tension... and the potential tension didn't get through...<br /><br />i think the soundtrack could've been more than those few songs on the background and the theme (wich was nice but not enough and not always in the right moments)... yeah... i could feel the absence of a better soundtrack..<br /><br />the actors... i think that they were somewhere from 7 to 8/10... not enough sensuality in the key moments...<br /><br />a total of 7/10.... mostly for the story\",\n",
       " \"In any number of films, you can find Nicholas Cage as a strong, silent hero, Dennis Hopper as a homicidal maniac, Lara Flynn Boyle as a vamp/tramp, and the late, lamented J.T. Walsh as the heavy. These are the types of roles these four can play in their sleep, and they have done so often enough that to see them playing them again borders on cliche. What a relief, therefore, that John Dahl, a master at getting a lot of mood out of a little action, directed this nuanced noirish thriller. Hopper manages to keep from going over the top, Cage shows a little more depth than his usually-superficial action heroes, Boyle is by turns sultry, innocent, and scheming, and one gets a sense of the hard iron of the soul that is central to his character, Wayne. Dahl's direction gives a sense of the emptiness of the Big Sky country where the story takes place while also being intimate enough to show how a wrinkled brow can indicate a radical change of plot in store. The plot twists are top-notch, and one of the other great twists in this movie is that some of the supporting characters actually act as if they have brains. It isn't often that minor characters like deputy sheriffs have more brains than their headlining superiors. But with a director as smart as Dahl, you shouldn't be surprised by the intelligence of anything connected with this film. An excellent movie.\",\n",
       " 'THE LADY FROM SHANGHAI is proof that the great genius Orson Welles could direct a \"mainstream\" movie if he wanted to. By comparison to his other, more artistic works, this film has only a moderate amount of craftiness, and almost no esoteric elements.<br /><br />The exception being, of course, the final scene in the hall of mirrors, widely agreed to be one of the greatest scenes in the history of film. It alone is worth the cost of a rental.<br /><br />The sweet surprise was the superb acting by the beautiful Rita Hayworth. Her acting during the beginning and middle of the film is so excellent, she made the other actors appear as caricatures instead of characters. Even the great Mr. Welles.',\n",
       " \"Being the first feature film with Robert De Niro (although not released for years later), this is worth the watch. De Niro's role isn't huge, yet amusing as one of two friends who first try to prevent another friends marriage only to later chase him down to force him into it. Any die hard De Niro fan will get a kick out of an early performance by arguably the best actor today.\",\n",
       " 'It was a saturday night and a movie called BASEketball was on TV. I had always wanted to watch it but never got around to it when it was in the cinema. Boy was i mistaken. Words cannot describe how funny this film is, starring the creators of South Park, who share a natural on screen chemistry when being funny. I taped the replay the next day and exactly one week after watching it for the first time, i have seen it 7 times!!. Im obsessed with it, and i know anyone who appreciates trey and matts work will appreciate this movie. A MUST SEE, THIS IS MY #1 COMEDY OF ALL TIME']"
      ]
     },
     "execution_count": 6,
     "metadata": {},
     "output_type": "execute_result"
    }
   ],
   "source": [
    "# Sample some positive reviews and write some functions\n",
    "train_df[train_df.sentiment == 1].review[:10].tolist()"
   ]
  },
  {
   "cell_type": "code",
   "execution_count": 7,
   "metadata": {
    "ExecuteTime": {
     "end_time": "2020-09-07T09:09:00.251949Z",
     "start_time": "2020-09-07T09:09:00.220488Z"
    }
   },
   "outputs": [],
   "source": [
    "@labeling_function()\n",
    "def classic(x):\n",
    "    if not isinstance(x.review, str):\n",
    "        return ABSTAIN\n",
    "    ex1 = \"a classic\"\n",
    "    if ex1 in x.review.lower():\n",
    "        return POSITIVE\n",
    "    return ABSTAIN\n",
    "\n",
    "@labeling_function()\n",
    "def must_watch(x):\n",
    "    if not isinstance(x.review, str):\n",
    "        return ABSTAIN\n",
    "    ex1 = \"must watch\"\n",
    "    if ex1 in x.review.lower():\n",
    "        return POSITIVE\n",
    "    return ABSTAIN\n",
    "\n",
    "@labeling_function()\n",
    "def oscar(x):\n",
    "    if not isinstance(x.review, str):\n",
    "        return ABSTAIN\n",
    "    ex1 = \"oscar nominated\"\n",
    "    if ex1 in x.review.lower() :\n",
    "        return POSITIVE\n",
    "    return ABSTAIN\n",
    "\n",
    "@labeling_function()\n",
    "def love(x):\n",
    "    if not isinstance(x.review, str):\n",
    "        return ABSTAIN\n",
    "    st_rvw = set(x.review.lower().split())\n",
    "    ex1 = {\"love\", \"the\", \"movie\"}\n",
    "    if st_rvw.issuperset(ex1) :\n",
    "        return POSITIVE\n",
    "    return ABSTAIN\n",
    "\n",
    "@labeling_function()\n",
    "def great_entertainment(x):\n",
    "    if not isinstance(x.review, str):\n",
    "        return ABSTAIN\n",
    "    st_rvw = set(x.review.lower().split())\n",
    "    ex1 = {\"great\", \"entertainment\"}\n",
    "    if st_rvw.issuperset(ex1) :\n",
    "        return POSITIVE\n",
    "    return ABSTAIN\n",
    "\n",
    "@labeling_function()\n",
    "def very_entertaining(x):\n",
    "    if not isinstance(x.review, str):\n",
    "        return ABSTAIN\n",
    "    ex1 = \"very entertaining\"\n",
    "    if ex1 in x.review.lower() :\n",
    "        return POSITIVE\n",
    "    return ABSTAIN\n",
    "\n",
    "@labeling_function()\n",
    "def amazing(x):\n",
    "    if not isinstance(x.review, str):\n",
    "        return ABSTAIN\n",
    "    ex1 = \"amazing\"\n",
    "    if ex1 in x.review.lower():\n",
    "        return POSITIVE\n",
    "    return ABSTAIN\n",
    "\n",
    "@labeling_function()\n",
    "def brilliant(x):\n",
    "    if not isinstance(x.review, str):\n",
    "        return ABSTAIN\n",
    "    ex1 = \"brillant\"\n",
    "    if ex1 in x.review.lower():\n",
    "        return POSITIVE\n",
    "    return ABSTAIN\n",
    "\n",
    "@labeling_function()\n",
    "def fantastic(x):\n",
    "    if not isinstance(x.review, str):\n",
    "        return ABSTAIN\n",
    "    ex1 = \"fantastic\"\n",
    "    if ex1 in x.review.lower():\n",
    "        return POSITIVE\n",
    "    return ABSTAIN\n",
    "\n",
    "@labeling_function()\n",
    "def awesome(x):\n",
    "    if not isinstance(x.review, str):\n",
    "        return ABSTAIN\n",
    "    ex1 = \"awesome\"\n",
    "    if ex1 in x.review.lower():\n",
    "        return POSITIVE\n",
    "    return ABSTAIN\n",
    "\n",
    "@labeling_function()\n",
    "def great_acting(x):\n",
    "    if not isinstance(x.review, str):\n",
    "        return ABSTAIN\n",
    "    ex1 = \"(great|awesome|amazing|fantastic|excellent) act\"\n",
    "    #ex1 = \"(awesome|amazing|fantastic|excellent) act\"\n",
    "    if re.search(ex1, x.review.lower()):\n",
    "        return POSITIVE\n",
    "    return ABSTAIN\n",
    "\n",
    "@labeling_function()\n",
    "def great(x):\n",
    "    if not isinstance(x.review, str):\n",
    "        return ABSTAIN\n",
    "    ex1 = \"great\"\n",
    "    if ex1 in x.review.lower():\n",
    "        return POSITIVE\n",
    "    return ABSTAIN\n",
    "\n",
    "@labeling_function()\n",
    "def great_direction(x):\n",
    "    if not isinstance(x.review, str):\n",
    "        return ABSTAIN\n",
    "    ex1 = \"(great|awesome|amazing|fantastic|excellent) direction\"\n",
    "    if re.search(ex1, x.review.lower()):\n",
    "        return POSITIVE\n",
    "    return ABSTAIN\n",
    "\n",
    "@labeling_function()\n",
    "def great_story(x):\n",
    "    if not isinstance(x.review, str):\n",
    "        return ABSTAIN\n",
    "    ex1 = \"(great|awesome|amazing|fantastic|excellent|dramatic) (script|story)\"\n",
    "    if re.search(ex1, x.review.lower()):\n",
    "        return POSITIVE\n",
    "    return ABSTAIN\n",
    "\n",
    "@labeling_function()\n",
    "def favourite(x):\n",
    "    if not isinstance(x.review, str):\n",
    "        return ABSTAIN\n",
    "    ex1 = \"my favourite\"\n",
    "    if ex1 in x.review.lower():\n",
    "        return POSITIVE\n",
    "    return ABSTAIN\n",
    "\n",
    "# This function is updated later through iterative work\n",
    "# @labeling_function()\n",
    "# def superlatives(x):\n",
    "#     if not isinstance(x.review, str):\n",
    "#         return ABSTAIN\n",
    "#     ex1 = [\"best\", \"super\", \"great\",\"awesome\",\"amaz\", \"fantastic\", \n",
    "#            \"excellent\", \"favorite\"]\n",
    "#     rv = x.review.lower()\n",
    "#     counts = [rv.count(x) for x in ex1]\n",
    "#     if sum(counts) >= 3:\n",
    "#         return POSITIVE\n",
    "#     return ABSTAIN\n",
    "\n",
    "pos_lfs = [classic, must_watch, oscar, love, great_entertainment,  \n",
    "           very_entertaining, amazing, brilliant, fantastic, awesome, \n",
    "           great_acting, great_direction, great_story, favourite, great\n",
    "           ]"
   ]
  },
  {
   "cell_type": "markdown",
   "metadata": {},
   "source": [
    "## Test labels on small subset of data"
   ]
  },
  {
   "cell_type": "code",
   "execution_count": 8,
   "metadata": {
    "ExecuteTime": {
     "end_time": "2020-09-07T09:09:03.036069Z",
     "start_time": "2020-09-07T09:09:01.705546Z"
    }
   },
   "outputs": [
    {
     "name": "stderr",
     "output_type": "stream",
     "text": [
      "/home/ashish/anaconda3/envs/tf21g/lib/python3.7/site-packages/tqdm/std.py:668: FutureWarning: The Panel class is removed from pandas. Accessing it from the top-level namespace will also be removed in the next version\n",
      "  from pandas import Panel\n",
      "100%|██████████| 1000/1000 [00:01<00:00, 761.47it/s]\n"
     ]
    }
   ],
   "source": [
    "# set of labeling functions\n",
    "lfs = neg_lfs + pos_lfs\n",
    "\n",
    "# lets take a sample of 1000 records from training set\n",
    "lf_train = train_df.sample(n=1000, random_state=42)\n",
    "\n",
    "# Apply the LFs to the unlabeled training data\n",
    "applier = PandasLFApplier(lfs)\n",
    "L_train = applier.apply(lf_train)"
   ]
  },
  {
   "cell_type": "code",
   "execution_count": 9,
   "metadata": {
    "ExecuteTime": {
     "end_time": "2020-09-07T09:09:04.712856Z",
     "start_time": "2020-09-07T09:09:03.899305Z"
    }
   },
   "outputs": [],
   "source": [
    "# Train the label model and compute the training labels\n",
    "label_model = LabelModel(cardinality=2, verbose=True)\n",
    "label_model.fit(L_train, n_epochs=500, log_freq=50, seed=123)\n",
    "lf_train[\"snorkel\"] = label_model.predict(L=L_train, \n",
    "                                      tie_break_policy=\"abstain\")"
   ]
  },
  {
   "cell_type": "code",
   "execution_count": 10,
   "metadata": {
    "ExecuteTime": {
     "end_time": "2020-09-07T09:09:04.798392Z",
     "start_time": "2020-09-07T09:09:04.781125Z"
    }
   },
   "outputs": [
    {
     "data": {
      "text/html": [
       "<div>\n",
       "<style scoped>\n",
       "    .dataframe tbody tr th:only-of-type {\n",
       "        vertical-align: middle;\n",
       "    }\n",
       "\n",
       "    .dataframe tbody tr th {\n",
       "        vertical-align: top;\n",
       "    }\n",
       "\n",
       "    .dataframe thead th {\n",
       "        text-align: right;\n",
       "    }\n",
       "</style>\n",
       "<table border=\"1\" class=\"dataframe\">\n",
       "  <thead>\n",
       "    <tr style=\"text-align: right;\">\n",
       "      <th></th>\n",
       "      <th>sentiment</th>\n",
       "      <th>snorkel</th>\n",
       "    </tr>\n",
       "  </thead>\n",
       "  <tbody>\n",
       "    <tr>\n",
       "      <th>count</th>\n",
       "      <td>598.000000</td>\n",
       "      <td>598.000000</td>\n",
       "    </tr>\n",
       "    <tr>\n",
       "      <th>mean</th>\n",
       "      <td>0.520067</td>\n",
       "      <td>0.600334</td>\n",
       "    </tr>\n",
       "    <tr>\n",
       "      <th>std</th>\n",
       "      <td>0.500015</td>\n",
       "      <td>0.490240</td>\n",
       "    </tr>\n",
       "    <tr>\n",
       "      <th>min</th>\n",
       "      <td>0.000000</td>\n",
       "      <td>0.000000</td>\n",
       "    </tr>\n",
       "    <tr>\n",
       "      <th>25%</th>\n",
       "      <td>0.000000</td>\n",
       "      <td>0.000000</td>\n",
       "    </tr>\n",
       "    <tr>\n",
       "      <th>50%</th>\n",
       "      <td>1.000000</td>\n",
       "      <td>1.000000</td>\n",
       "    </tr>\n",
       "    <tr>\n",
       "      <th>75%</th>\n",
       "      <td>1.000000</td>\n",
       "      <td>1.000000</td>\n",
       "    </tr>\n",
       "    <tr>\n",
       "      <th>max</th>\n",
       "      <td>1.000000</td>\n",
       "      <td>1.000000</td>\n",
       "    </tr>\n",
       "  </tbody>\n",
       "</table>\n",
       "</div>"
      ],
      "text/plain": [
       "        sentiment     snorkel\n",
       "count  598.000000  598.000000\n",
       "mean     0.520067    0.600334\n",
       "std      0.500015    0.490240\n",
       "min      0.000000    0.000000\n",
       "25%      0.000000    0.000000\n",
       "50%      1.000000    1.000000\n",
       "75%      1.000000    1.000000\n",
       "max      1.000000    1.000000"
      ]
     },
     "execution_count": 10,
     "metadata": {},
     "output_type": "execute_result"
    }
   ],
   "source": [
    "pred_lfs = lf_train[lf_train.snorkel > -1]\n",
    "pred_lfs.describe()\n"
   ]
  },
  {
   "cell_type": "code",
   "execution_count": 11,
   "metadata": {
    "ExecuteTime": {
     "end_time": "2020-09-07T09:09:06.858258Z",
     "start_time": "2020-09-07T09:09:06.833419Z"
    },
    "scrolled": true
   },
   "outputs": [
    {
     "data": {
      "text/html": [
       "<div>\n",
       "<style scoped>\n",
       "    .dataframe tbody tr th:only-of-type {\n",
       "        vertical-align: middle;\n",
       "    }\n",
       "\n",
       "    .dataframe tbody tr th {\n",
       "        vertical-align: top;\n",
       "    }\n",
       "\n",
       "    .dataframe thead th {\n",
       "        text-align: right;\n",
       "    }\n",
       "</style>\n",
       "<table border=\"1\" class=\"dataframe\">\n",
       "  <thead>\n",
       "    <tr style=\"text-align: right;\">\n",
       "      <th></th>\n",
       "      <th>sentiment</th>\n",
       "      <th>snorkel</th>\n",
       "    </tr>\n",
       "  </thead>\n",
       "  <tbody>\n",
       "    <tr>\n",
       "      <th>count</th>\n",
       "      <td>164.000000</td>\n",
       "      <td>164.000000</td>\n",
       "    </tr>\n",
       "    <tr>\n",
       "      <th>mean</th>\n",
       "      <td>0.353659</td>\n",
       "      <td>0.646341</td>\n",
       "    </tr>\n",
       "    <tr>\n",
       "      <th>std</th>\n",
       "      <td>0.479569</td>\n",
       "      <td>0.479569</td>\n",
       "    </tr>\n",
       "    <tr>\n",
       "      <th>min</th>\n",
       "      <td>0.000000</td>\n",
       "      <td>0.000000</td>\n",
       "    </tr>\n",
       "    <tr>\n",
       "      <th>25%</th>\n",
       "      <td>0.000000</td>\n",
       "      <td>0.000000</td>\n",
       "    </tr>\n",
       "    <tr>\n",
       "      <th>50%</th>\n",
       "      <td>0.000000</td>\n",
       "      <td>1.000000</td>\n",
       "    </tr>\n",
       "    <tr>\n",
       "      <th>75%</th>\n",
       "      <td>1.000000</td>\n",
       "      <td>1.000000</td>\n",
       "    </tr>\n",
       "    <tr>\n",
       "      <th>max</th>\n",
       "      <td>1.000000</td>\n",
       "      <td>1.000000</td>\n",
       "    </tr>\n",
       "  </tbody>\n",
       "</table>\n",
       "</div>"
      ],
      "text/plain": [
       "        sentiment     snorkel\n",
       "count  164.000000  164.000000\n",
       "mean     0.353659    0.646341\n",
       "std      0.479569    0.479569\n",
       "min      0.000000    0.000000\n",
       "25%      0.000000    0.000000\n",
       "50%      0.000000    1.000000\n",
       "75%      1.000000    1.000000\n",
       "max      1.000000    1.000000"
      ]
     },
     "execution_count": 11,
     "metadata": {},
     "output_type": "execute_result"
    }
   ],
   "source": [
    "pred_mistake = pred_lfs[pred_lfs.sentiment != pred_lfs.snorkel]\n",
    "pred_mistake.describe()\n"
   ]
  },
  {
   "cell_type": "markdown",
   "metadata": {},
   "source": [
    "## Labeling functions inspired by Naive-Bayes Model"
   ]
  },
  {
   "cell_type": "code",
   "execution_count": 12,
   "metadata": {
    "ExecuteTime": {
     "end_time": "2020-09-07T10:06:17.434341Z",
     "start_time": "2020-09-07T10:06:17.426104Z"
    }
   },
   "outputs": [],
   "source": [
    "# Utilities for defining keywords based functions\n",
    "def keyword_lookup(x, keywords, label):\n",
    "    if any(word in x.review.lower() for word in keywords):\n",
    "        return label\n",
    "    return ABSTAIN\n",
    "\n",
    "\n",
    "def make_keyword_lf(keywords, label):\n",
    "    return LabelingFunction(\n",
    "        name=f\"keyword_{keywords[0]}\",\n",
    "        f=keyword_lookup,\n",
    "        resources=dict(keywords=keywords, label=label),\n",
    "    )"
   ]
  },
  {
   "cell_type": "code",
   "execution_count": 13,
   "metadata": {
    "ExecuteTime": {
     "end_time": "2020-09-07T10:06:18.239188Z",
     "start_time": "2020-09-07T10:06:18.222745Z"
    }
   },
   "outputs": [
    {
     "name": "stdout",
     "output_type": "stream",
     "text": [
      "LabelingFunction keyword_laughable, Preprocessors: []\n"
     ]
    }
   ],
   "source": [
    "# Some negative high prob words - arbitrary cutoff of 4.5x\n",
    "'''\n",
    "   contains(unfunny) = True              0 : 1      =     14.1 : 1.0\n",
    "   contains(waste) = True                0 : 1      =     12.7 : 1.0\n",
    "   contains(pointless) = True            0 : 1      =     10.4 : 1.0\n",
    "   contains(redeeming) = True            0 : 1      =     10.1 : 1.0\n",
    "   contains(laughable) = True            0 : 1      =      9.3 : 1.0\n",
    "   contains(worst) = True                0 : 1      =      9.0 : 1.0\n",
    "   contains(awful) = True                0 : 1      =      8.4 : 1.0\n",
    "   contains(poorly) = True               0 : 1      =      8.2 : 1.0\n",
    "   contains(sucks) = True                0 : 1      =      7.0 : 1.0\n",
    "   contains(lame) = True                 0 : 1      =      6.9 : 1.0\n",
    "   contains(pathetic) = True             0 : 1      =      6.4 : 1.0\n",
    "   contains(wasted) = True               0 : 1      =      6.0 : 1.0\n",
    "   contains(crap) = True                 0 : 1      =      5.9 : 1.0\n",
    "   contains(dreadful) = True             0 : 1      =      5.7 : 1.0\n",
    "   contains(mess) = True                 0 : 1      =      5.6 : 1.0\n",
    "   contains(horrible) = True             0 : 1      =      5.5 : 1.0\n",
    "   contains(garbage) = True              0 : 1      =      5.3 : 1.0\n",
    "   contains(badly) = True                0 : 1      =      5.3 : 1.0\n",
    "   contains(wooden) = True               0 : 1      =      5.2 : 1.0\n",
    "   contains(terrible) = True             0 : 1      =      5.1 : 1.0\n",
    "   contains(worse) = True                0 : 1      =      5.0 : 1.0\n",
    "   contains(stupid) = True               0 : 1      =      4.7 : 1.0\n",
    "   contains(avoid) = True                0 : 1      =      4.7 : 1.0\n",
    "   contains(dull) = True                 0 : 1      =      4.5 : 1.0\n",
    "'''\n",
    "\n",
    "waste_kw = make_keyword_lf(keywords=[\"waste\"], label=NEGATIVE)\n",
    "pointless_kw = make_keyword_lf(keywords=[\"pointless\"], label=NEGATIVE)\n",
    "redeeming_kw = make_keyword_lf(keywords=[\"redeeming\"], label=NEGATIVE)\n",
    "\n",
    "neg_words = [\"laughable\", \"worst\", \"awful\", \"poorly\", \"sucks\", \"lame\",\n",
    "            \"pathetic\", \"dreadful\", \"mess\", \"horrible\", \"badly\", \"wooden\",\n",
    "            \"terrible\", \"worse\", \"stupid\", \"avoid\", \"dull\"]\n",
    "neg_nb_kw = make_keyword_lf(keywords=neg_words, label=NEGATIVE)\n",
    "print(neg_nb_kw)\n",
    "\n",
    "# update the counting function\n",
    "@labeling_function()\n",
    "def negatives(x):\n",
    "    if not isinstance(x.review, str):\n",
    "        return ABSTAIN\n",
    "    ex1 = [\"bad\" , \"terrible\", \"poor\", \"disappoint\", \"unsatisf\"]\n",
    "    neg_words = [\"waste\", \"pointless\", \"redeeming\",\"laughable\", \"worst\", \n",
    "                 \"awful\", \"poorly\", \"sucks\", \"lame\",\n",
    "                 \"pathetic\", \"dreadful\", \"mess\", \"horrible\", \n",
    "                 \"badly\", \"wooden\", \"terrible\", \"worse\", \"stupid\", \n",
    "                 \"avoid\", \"dull\"]\n",
    "    ex1 += neg_words\n",
    "    rv = x.review.lower()\n",
    "    counts = [rv.count(x) for x in ex1]\n",
    "    if sum(counts) >= 2:\n",
    "        return NEGATIVE\n",
    "    return ABSTAIN\n",
    "\n",
    "neg_lfs += [waste_kw, pointless_kw, redeeming_kw, neg_nb_kw, negatives]"
   ]
  },
  {
   "cell_type": "code",
   "execution_count": 14,
   "metadata": {
    "ExecuteTime": {
     "end_time": "2020-09-07T10:06:19.308299Z",
     "start_time": "2020-09-07T10:06:19.293723Z"
    }
   },
   "outputs": [
    {
     "name": "stdout",
     "output_type": "stream",
     "text": [
      "LabelingFunction keyword_beautifully, Preprocessors: []\n"
     ]
    }
   ],
   "source": [
    "# Some positive high prob words - arbitrary cutoff of 4.5x\n",
    "'''\n",
    "   contains(wonderfully) = True                1 : 0      =      7.6 : 1.0\n",
    "    contains(delightful) = True                1 : 0      =      6.0 : 1.0\n",
    "   contains(beautifully) = True                1 : 0      =      5.8 : 1.0\n",
    "        contains(superb) = True                1 : 0      =      5.4 : 1.0\n",
    "      contains(touching) = True                1 : 0      =      5.1 : 1.0\n",
    "   contains(brilliantly) = True                1 : 0      =      4.7 : 1.0\n",
    "    contains(friendship) = True                1 : 0      =      4.6 : 1.0\n",
    "        contains(finest) = True                1 : 0      =      4.5 : 1.0\n",
    "      contains(terrific) = True                1 : 0      =      4.5 : 1.0\n",
    "           contains(gem) = True                1 : 0      =      4.5 : 1.0\n",
    "   contains(magnificent) = True                1 : 0      =      4.5 : 1.0\n",
    "'''\n",
    "\n",
    "wonderfully_kw = make_keyword_lf(keywords=[\"wonderfully\"], label=POSITIVE)\n",
    "delightful_kw = make_keyword_lf(keywords=[\"delightful\"], label=POSITIVE)\n",
    "superb_kw = make_keyword_lf(keywords=[\"superb\"], label=POSITIVE)\n",
    "\n",
    "pos_words = [\"beautifully\", \"touching\", \"brilliantly\", \"friendship\",\n",
    "            \"finest\", \"terrific\", \"magnificent\"]\n",
    "pos_nb_kw = make_keyword_lf(keywords=pos_words, label=POSITIVE)\n",
    "print(pos_nb_kw)\n",
    "\n",
    "# update with more superlatives\n",
    "@labeling_function()\n",
    "def superlatives(x):\n",
    "    if not isinstance(x.review, str):\n",
    "        return ABSTAIN\n",
    "    ex1 = [\"best\", \"super\", \"great\",\"awesome\",\"amaz\", \"fantastic\", \n",
    "           \"excellent\", \"favorite\"]\n",
    "    pos_words = [\"beautifully\", \"touching\", \"brilliantly\", \"friendship\",\n",
    "                 \"finest\", \"terrific\", \"magnificent\", \"wonderfully\",\n",
    "                 \"delightful\"]\n",
    "    ex1 += pos_words\n",
    "    rv = x.review.lower()\n",
    "    counts = [rv.count(x) for x in ex1]\n",
    "    if sum(counts) >= 3:\n",
    "        return POSITIVE\n",
    "    return ABSTAIN"
   ]
  },
  {
   "cell_type": "code",
   "execution_count": 15,
   "metadata": {
    "ExecuteTime": {
     "end_time": "2020-09-07T10:06:20.189904Z",
     "start_time": "2020-09-07T10:06:20.182325Z"
    }
   },
   "outputs": [],
   "source": [
    "'''\n",
    "   contains(outstanding) = True                1 : 0      =      4.3 : 1.0\n",
    "     contains(wonderful) = True                1 : 0      =      4.2 : 1.0\n",
    "     contains(excellent) = True                1 : 0      =      4.1 : 1.0\n",
    "     contains(fantastic) = True                1 : 0      =      4.1 : 1.0\n",
    "       contains(freedom) = True                1 : 0      =      4.0 : 1.0\n",
    "     * contains(sinatra) = True                1 : 0      =      3.9 : 1.0\n",
    "          contains(noir) = True                1 : 0      =      3.8 : 1.0\n",
    "      contains(stunning) = True                1 : 0      =      3.6 : 1.0\n",
    "       contains(amazing) = True                1 : 0      =      3.6 : 1.0\n",
    "    contains(remarkable) = True                1 : 0      =      3.5 : 1.0\n",
    "       contains(perfect) = True                1 : 0      =      3.4 : 1.0\n",
    "     * contains(stewart) = True                1 : 0      =      3.4 : 1.0\n",
    "      contains(powerful) = True                1 : 0      =      3.4 : 1.0\n",
    "   contains(recommended) = True                1 : 0      =      3.4 : 1.0\n",
    "    *  contains(barbara) = True                1 : 0      =      3.3 : 1.0\n",
    "      contains(favorite) = True                1 : 0      =      3.3 : 1.0\n",
    "      contains(emotions) = True                1 : 0      =      3.2 : 1.0\n",
    "          contains(rare) = True                1 : 0      =      3.2 : 1.0\n",
    "        contains(subtle) = True                1 : 0      =      3.2 : 1.0\n",
    "       contains(journey) = True                1 : 0      =      3.2 : 1.0\n",
    "     contains(perfectly) = True                1 : 0      =      3.2 : 1.0\n",
    "       * contains(marie) = True                1 : 0      =      3.2 : 1.0\n",
    "    '''\n",
    "pos_words2 = [\"remarkable\", \"stunning\", \"noir\", \"freedom\",\n",
    "            \"fantastic\", \"excellent\", \"wonderful\",\"outstanding\",\n",
    "            \"perfect\", \"powerful\", \"recommended\", \"emotions\", \"rare\",\n",
    "            \"subtle\", \"journey\", \"perfectly\"]\n",
    "\n",
    "pos_nb_kw2 = make_keyword_lf(keywords=pos_words2, label=POSITIVE)"
   ]
  },
  {
   "cell_type": "code",
   "execution_count": 16,
   "metadata": {
    "ExecuteTime": {
     "end_time": "2020-09-07T10:06:21.613059Z",
     "start_time": "2020-09-07T10:06:21.608620Z"
    }
   },
   "outputs": [],
   "source": [
    "pos_lfs += [wonderfully_kw, delightful_kw, superb_kw, pos_nb_kw, \n",
    "            superlatives, pos_nb_kw2]"
   ]
  },
  {
   "cell_type": "markdown",
   "metadata": {},
   "source": [
    "# Test Labeling Functions on Training Data "
   ]
  },
  {
   "cell_type": "code",
   "execution_count": 17,
   "metadata": {
    "ExecuteTime": {
     "end_time": "2020-09-07T10:06:24.762313Z",
     "start_time": "2020-09-07T10:06:24.757625Z"
    }
   },
   "outputs": [],
   "source": [
    "# set of labeling functions\n",
    "lfs = neg_lfs + pos_lfs\n",
    "\n",
    "# Apply the LFs to the unlabeled training data\n",
    "applier = PandasLFApplier(lfs)"
   ]
  },
  {
   "cell_type": "code",
   "execution_count": 18,
   "metadata": {
    "ExecuteTime": {
     "end_time": "2020-09-07T10:06:25.697720Z",
     "start_time": "2020-09-07T10:06:25.692836Z"
    }
   },
   "outputs": [
    {
     "name": "stdout",
     "output_type": "stream",
     "text": [
      "[LabelingFunction atrocious, Preprocessors: [], LabelingFunction terrible, Preprocessors: [], LabelingFunction piece_of, Preprocessors: [], LabelingFunction woefully_miscast, Preprocessors: [], LabelingFunction bad_acting, Preprocessors: [], LabelingFunction cheesy_dull, Preprocessors: [], LabelingFunction disappoint, Preprocessors: [], LabelingFunction crap, Preprocessors: [], LabelingFunction garbage, Preprocessors: [], LabelingFunction unsatisfied, Preprocessors: [], LabelingFunction ridiculous, Preprocessors: [], LabelingFunction bad, Preprocessors: [], LabelingFunction keyword_waste, Preprocessors: [], LabelingFunction keyword_pointless, Preprocessors: [], LabelingFunction keyword_redeeming, Preprocessors: [], LabelingFunction keyword_laughable, Preprocessors: [], LabelingFunction negatives, Preprocessors: [], LabelingFunction classic, Preprocessors: [], LabelingFunction must_watch, Preprocessors: [], LabelingFunction oscar, Preprocessors: [], LabelingFunction love, Preprocessors: [], LabelingFunction great_entertainment, Preprocessors: [], LabelingFunction very_entertaining, Preprocessors: [], LabelingFunction amazing, Preprocessors: [], LabelingFunction brilliant, Preprocessors: [], LabelingFunction fantastic, Preprocessors: [], LabelingFunction awesome, Preprocessors: [], LabelingFunction great_acting, Preprocessors: [], LabelingFunction great_direction, Preprocessors: [], LabelingFunction great_story, Preprocessors: [], LabelingFunction favourite, Preprocessors: [], LabelingFunction great, Preprocessors: [], LabelingFunction keyword_wonderfully, Preprocessors: [], LabelingFunction keyword_delightful, Preprocessors: [], LabelingFunction keyword_superb, Preprocessors: [], LabelingFunction keyword_beautifully, Preprocessors: [], LabelingFunction superlatives, Preprocessors: [], LabelingFunction keyword_remarkable, Preprocessors: []]\n"
     ]
    }
   ],
   "source": [
    "print(lfs)"
   ]
  },
  {
   "cell_type": "code",
   "execution_count": 19,
   "metadata": {
    "ExecuteTime": {
     "end_time": "2020-09-07T10:07:50.326268Z",
     "start_time": "2020-09-07T10:06:54.228494Z"
    }
   },
   "outputs": [
    {
     "name": "stderr",
     "output_type": "stream",
     "text": [
      "/home/ashish/anaconda3/envs/tf21g/lib/python3.7/site-packages/tqdm/std.py:668: FutureWarning: The Panel class is removed from pandas. Accessing it from the top-level namespace will also be removed in the next version\n",
      "  from pandas import Panel\n",
      "100%|██████████| 25000/25000 [00:55<00:00, 447.00it/s]\n"
     ]
    }
   ],
   "source": [
    "# train on entire training set\n",
    "L_train_full = applier.apply(train_df)\n",
    "label_model = LabelModel(cardinality=2, verbose=True)"
   ]
  },
  {
   "cell_type": "code",
   "execution_count": 20,
   "metadata": {
    "ExecuteTime": {
     "end_time": "2020-09-07T10:07:54.119693Z",
     "start_time": "2020-09-07T10:07:53.153487Z"
    }
   },
   "outputs": [],
   "source": [
    "label_model.fit(L_train_full, n_epochs=500, optimizer=\"adam\", \n",
    "                log_freq=50, seed=42)"
   ]
  },
  {
   "cell_type": "code",
   "execution_count": 21,
   "metadata": {
    "ExecuteTime": {
     "end_time": "2020-09-07T10:08:09.365936Z",
     "start_time": "2020-09-07T10:08:08.912655Z"
    },
    "scrolled": true
   },
   "outputs": [
    {
     "name": "stderr",
     "output_type": "stream",
     "text": [
      "WARNING:root:Metrics calculated over data points with non-abstain labels only\n"
     ]
    },
    {
     "name": "stdout",
     "output_type": "stream",
     "text": [
      "Label Model Accuracy:     78.5%\n",
      "All Metrics:  {'accuracy': 0.7854110013835218, 'coverage': 0.83844, 'precision': 0.8564883605745418, 'recall': 0.6744344773790951, 'f1': 0.7546367008509709}\n",
      "                      j Polarity  Coverage  Overlaps  Conflicts\n",
      "atrocious             0      [0]   0.00816   0.00768    0.00328\n",
      "terrible              1      [0]   0.05356   0.05356    0.02696\n",
      "piece_of              2      [0]   0.00084   0.00080    0.00048\n",
      "woefully_miscast      3      [0]   0.00848   0.00764    0.00504\n",
      "bad_acting            4      [0]   0.08748   0.08348    0.04304\n",
      "cheesy_dull           5      [0]   0.05136   0.04932    0.02760\n",
      "disappoint            6      [0]   0.06812   0.06020    0.04160\n",
      "crap                  7      [0]   0.04784   0.04340    0.02208\n",
      "garbage               8      [0]   0.01692   0.01524    0.00708\n",
      "unsatisfied           9      [0]   0.00388   0.00336    0.00232\n",
      "ridiculous           10      [0]   0.03976   0.03612    0.02124\n",
      "bad                  11      [0]   0.03624   0.03624    0.01744\n",
      "keyword_waste        12      [0]   0.07336   0.06848    0.03232\n",
      "keyword_pointless    13      [0]   0.01956   0.01836    0.00972\n",
      "keyword_redeeming    14      [0]   0.01264   0.01192    0.00556\n",
      "keyword_laughable    15      [0]   0.41036   0.37368    0.20884\n",
      "negatives            16      [0]   0.35300   0.34720    0.17396\n",
      "classic              17      [1]   0.01684   0.01476    0.00856\n",
      "must_watch           18      [1]   0.00176   0.00140    0.00060\n",
      "oscar                19      [1]   0.00064   0.00060    0.00016\n",
      "love                 20      [1]   0.08660   0.07536    0.04568\n",
      "great_entertainment  21      [1]   0.00488   0.00488    0.00292\n",
      "very_entertaining    22      [1]   0.00544   0.00460    0.00244\n",
      "amazing              23      [1]   0.05028   0.04516    0.02340\n",
      "brilliant            24      [1]   0.00008   0.00008    0.00004\n",
      "fantastic            25      [1]   0.03036   0.03036    0.01380\n",
      "awesome              26      [1]   0.01740   0.01580    0.00860\n",
      "great_acting         27      [1]   0.02072   0.02072    0.00980\n",
      "great_direction      28      [1]   0.00128   0.00128    0.00076\n",
      "great_story          29      [1]   0.00888   0.00884    0.00388\n",
      "favourite            30      [1]   0.00732   0.00640    0.00348\n",
      "great                31      [1]   0.27728   0.23568    0.13800\n",
      "keyword_wonderfully  32      [1]   0.01248   0.01248    0.00564\n",
      "keyword_delightful   33      [1]   0.01188   0.01100    0.00500\n",
      "keyword_superb       34      [1]   0.02948   0.02636    0.01220\n",
      "keyword_beautifully  35      [1]   0.08284   0.07428    0.03528\n",
      "superlatives         36      [1]   0.14656   0.14464    0.07064\n",
      "keyword_remarkable   37      [1]   0.32052   0.26004    0.14748\n"
     ]
    }
   ],
   "source": [
    "train_df[\"snorkel\"] = label_model.predict(L=L_train_full, \n",
    "                                          tie_break_policy=\"abstain\")\n",
    "\n",
    "metrics = label_model.score(L=L_train_full, Y=train_df.sentiment,\n",
    "                            tie_break_policy=\"abstain\",\n",
    "                            metrics=[\"accuracy\", \"coverage\", \"precision\",\n",
    "                                     \"recall\", \"f1\"])\n",
    "label_model_acc = metrics[\"accuracy\"]\n",
    "print(f\"{'Label Model Accuracy:':<25} {label_model_acc * 100:.1f}%\")\n",
    "print(\"All Metrics: \", metrics)\n",
    "print(LFAnalysis(L=L_train_full, lfs=lfs).lf_summary())"
   ]
  },
  {
   "cell_type": "code",
   "execution_count": 87,
   "metadata": {
    "ExecuteTime": {
     "end_time": "2020-09-07T06:05:31.332681Z",
     "start_time": "2020-09-07T06:05:31.147915Z"
    }
   },
   "outputs": [
    {
     "data": {
      "text/plain": [
       "<matplotlib.axes._subplots.AxesSubplot at 0x7fa8d580b150>"
      ]
     },
     "execution_count": 87,
     "metadata": {},
     "output_type": "execute_result"
    },
    {
     "data": {
      "image/png": "[encoded data removed]",
      "text/plain": [
       "<Figure size 432x288 with 1 Axes>"
      ]
     },
     "metadata": {
      "needs_background": "light"
     },
     "output_type": "display_data"
    }
   ],
   "source": [
    "train_df[\"snorkel\"].hist()"
   ]
  },
  {
   "cell_type": "code",
   "execution_count": 88,
   "metadata": {
    "ExecuteTime": {
     "end_time": "2020-09-07T06:07:26.203454Z",
     "start_time": "2020-09-07T06:05:36.327484Z"
    }
   },
   "outputs": [
    {
     "name": "stderr",
     "output_type": "stream",
     "text": [
      "WARNING:root:Metrics calculated over data points with non-abstain labels only\n",
      "WARNING:root:Metrics calculated over data points with non-abstain labels only\n",
      "WARNING:root:Metrics calculated over data points with non-abstain labels only\n",
      "WARNING:root:Metrics calculated over data points with non-abstain labels only\n",
      "WARNING:root:Metrics calculated over data points with non-abstain labels only\n",
      "WARNING:root:Metrics calculated over data points with non-abstain labels only\n",
      "WARNING:root:Metrics calculated over data points with non-abstain labels only\n",
      "WARNING:root:Metrics calculated over data points with non-abstain labels only\n",
      "WARNING:root:Metrics calculated over data points with non-abstain labels only\n",
      "WARNING:root:Metrics calculated over data points with non-abstain labels only\n",
      "WARNING:root:Metrics calculated over data points with non-abstain labels only\n",
      "WARNING:root:Metrics calculated over data points with non-abstain labels only\n",
      "WARNING:root:Metrics calculated over data points with non-abstain labels only\n",
      "WARNING:root:Metrics calculated over data points with non-abstain labels only\n",
      "WARNING:root:Metrics calculated over data points with non-abstain labels only\n",
      "WARNING:root:Metrics calculated over data points with non-abstain labels only\n",
      "WARNING:root:Metrics calculated over data points with non-abstain labels only\n",
      "WARNING:root:Metrics calculated over data points with non-abstain labels only\n",
      "WARNING:root:Metrics calculated over data points with non-abstain labels only\n",
      "WARNING:root:Metrics calculated over data points with non-abstain labels only\n",
      "WARNING:root:Metrics calculated over data points with non-abstain labels only\n",
      "WARNING:root:Metrics calculated over data points with non-abstain labels only\n",
      "WARNING:root:Metrics calculated over data points with non-abstain labels only\n",
      "WARNING:root:Metrics calculated over data points with non-abstain labels only\n",
      "WARNING:root:Metrics calculated over data points with non-abstain labels only\n",
      "WARNING:root:Metrics calculated over data points with non-abstain labels only\n",
      "WARNING:root:Metrics calculated over data points with non-abstain labels only\n",
      "WARNING:root:Metrics calculated over data points with non-abstain labels only\n",
      "WARNING:root:Metrics calculated over data points with non-abstain labels only\n",
      "WARNING:root:Metrics calculated over data points with non-abstain labels only\n",
      "WARNING:root:Metrics calculated over data points with non-abstain labels only\n",
      "WARNING:root:Metrics calculated over data points with non-abstain labels only\n",
      "WARNING:root:Metrics calculated over data points with non-abstain labels only\n",
      "WARNING:root:Metrics calculated over data points with non-abstain labels only\n",
      "WARNING:root:Metrics calculated over data points with non-abstain labels only\n",
      "WARNING:root:Metrics calculated over data points with non-abstain labels only\n",
      "WARNING:root:Metrics calculated over data points with non-abstain labels only\n",
      "WARNING:root:Metrics calculated over data points with non-abstain labels only\n",
      "WARNING:root:Metrics calculated over data points with non-abstain labels only\n",
      "WARNING:root:Metrics calculated over data points with non-abstain labels only\n",
      "WARNING:root:Metrics calculated over data points with non-abstain labels only\n",
      "WARNING:root:Metrics calculated over data points with non-abstain labels only\n",
      "WARNING:root:Metrics calculated over data points with non-abstain labels only\n",
      "WARNING:root:Metrics calculated over data points with non-abstain labels only\n",
      "WARNING:root:Metrics calculated over data points with non-abstain labels only\n",
      "WARNING:root:Metrics calculated over data points with non-abstain labels only\n",
      "WARNING:root:Metrics calculated over data points with non-abstain labels only\n",
      "WARNING:root:Metrics calculated over data points with non-abstain labels only\n",
      "WARNING:root:Metrics calculated over data points with non-abstain labels only\n",
      "WARNING:root:Metrics calculated over data points with non-abstain labels only\n",
      "WARNING:root:Metrics calculated over data points with non-abstain labels only\n",
      "WARNING:root:Metrics calculated over data points with non-abstain labels only\n",
      "WARNING:root:Metrics calculated over data points with non-abstain labels only\n",
      "WARNING:root:Metrics calculated over data points with non-abstain labels only\n",
      "WARNING:root:Metrics calculated over data points with non-abstain labels only\n",
      "WARNING:root:Metrics calculated over data points with non-abstain labels only\n",
      "WARNING:root:Metrics calculated over data points with non-abstain labels only\n",
      "WARNING:root:Metrics calculated over data points with non-abstain labels only\n",
      "WARNING:root:Metrics calculated over data points with non-abstain labels only\n",
      "WARNING:root:Metrics calculated over data points with non-abstain labels only\n",
      "WARNING:root:Metrics calculated over data points with non-abstain labels only\n",
      "WARNING:root:Metrics calculated over data points with non-abstain labels only\n",
      "WARNING:root:Metrics calculated over data points with non-abstain labels only\n",
      "WARNING:root:Metrics calculated over data points with non-abstain labels only\n",
      "WARNING:root:Metrics calculated over data points with non-abstain labels only\n",
      "WARNING:root:Metrics calculated over data points with non-abstain labels only\n",
      "WARNING:root:Metrics calculated over data points with non-abstain labels only\n",
      "WARNING:root:Metrics calculated over data points with non-abstain labels only\n",
      "WARNING:root:Metrics calculated over data points with non-abstain labels only\n",
      "WARNING:root:Metrics calculated over data points with non-abstain labels only\n",
      "WARNING:root:Metrics calculated over data points with non-abstain labels only\n",
      "WARNING:root:Metrics calculated over data points with non-abstain labels only\n",
      "WARNING:root:Metrics calculated over data points with non-abstain labels only\n",
      "WARNING:root:Metrics calculated over data points with non-abstain labels only\n",
      "WARNING:root:Metrics calculated over data points with non-abstain labels only\n",
      "WARNING:root:Metrics calculated over data points with non-abstain labels only\n",
      "WARNING:root:Metrics calculated over data points with non-abstain labels only\n",
      "WARNING:root:Metrics calculated over data points with non-abstain labels only\n",
      "WARNING:root:Metrics calculated over data points with non-abstain labels only\n",
      "WARNING:root:Metrics calculated over data points with non-abstain labels only\n",
      "WARNING:root:Metrics calculated over data points with non-abstain labels only\n",
      "WARNING:root:Metrics calculated over data points with non-abstain labels only\n",
      "WARNING:root:Metrics calculated over data points with non-abstain labels only\n",
      "WARNING:root:Metrics calculated over data points with non-abstain labels only\n",
      "WARNING:root:Metrics calculated over data points with non-abstain labels only\n",
      "WARNING:root:Metrics calculated over data points with non-abstain labels only\n",
      "WARNING:root:Metrics calculated over data points with non-abstain labels only\n",
      "WARNING:root:Metrics calculated over data points with non-abstain labels only\n",
      "WARNING:root:Metrics calculated over data points with non-abstain labels only\n",
      "WARNING:root:Metrics calculated over data points with non-abstain labels only\n",
      "WARNING:root:Metrics calculated over data points with non-abstain labels only\n",
      "WARNING:root:Metrics calculated over data points with non-abstain labels only\n",
      "WARNING:root:Metrics calculated over data points with non-abstain labels only\n",
      "WARNING:root:Metrics calculated over data points with non-abstain labels only\n",
      "WARNING:root:Metrics calculated over data points with non-abstain labels only\n",
      "WARNING:root:Metrics calculated over data points with non-abstain labels only\n",
      "WARNING:root:Metrics calculated over data points with non-abstain labels only\n",
      "WARNING:root:Metrics calculated over data points with non-abstain labels only\n",
      "WARNING:root:Metrics calculated over data points with non-abstain labels only\n",
      "WARNING:root:Metrics calculated over data points with non-abstain labels only\n",
      "WARNING:root:Metrics calculated over data points with non-abstain labels only\n",
      "WARNING:root:Metrics calculated over data points with non-abstain labels only\n",
      "WARNING:root:Metrics calculated over data points with non-abstain labels only\n",
      "WARNING:root:Metrics calculated over data points with non-abstain labels only\n",
      "WARNING:root:Metrics calculated over data points with non-abstain labels only\n",
      "WARNING:root:Metrics calculated over data points with non-abstain labels only\n"
     ]
    },
    {
     "name": "stderr",
     "output_type": "stream",
     "text": [
      "WARNING:root:Metrics calculated over data points with non-abstain labels only\n",
      "WARNING:root:Metrics calculated over data points with non-abstain labels only\n"
     ]
    },
    {
     "name": "stdout",
     "output_type": "stream",
     "text": [
      "best =  0.8399649430324277  params  (0.001, 0.1, 200, 'adam', 0.9)\n"
     ]
    }
   ],
   "source": [
    "# Grid Search\n",
    "from itertools import product\n",
    "\n",
    "lrs = [1e-1, 1e-2, 1e-3]\n",
    "l2s = [0, 1e-1, 1e-2]\n",
    "n_epochs = [100, 200, 500]\n",
    "optimizer = [\"sgd\", \"adam\"]\n",
    "thresh = [0.8, 0.9]\n",
    "lma_best = 0\n",
    "params_best = []\n",
    "\n",
    "for params in product(lrs, l2s, n_epochs, optimizer, thresh):\n",
    "    # do the initial pass to access the accuracies\n",
    "    label_model.fit(L_train_full, n_epochs=params[2], log_freq=50, seed=123, \n",
    "                    optimizer=params[3], lr=params[0], l2=params[1])\n",
    "    \n",
    "    # accuracies\n",
    "    weights = label_model.get_weights()\n",
    "    \n",
    "    # LFs above our threshold \n",
    "    vals = weights > params[4]\n",
    "    \n",
    "    # the LM requires at least 3 LFs to train\n",
    "    if sum(vals) >= 3:\n",
    "        L_filtered = L_train_full[:, vals]\n",
    "\n",
    "        label_model.fit(L_filtered, n_epochs=params[2], log_freq=50, seed=123, \n",
    "                        optimizer=params[3], lr=params[0], l2=params[1])\n",
    "\n",
    "        label_model_acc = label_model.score(L=L_filtered, Y=train_df.sentiment, \n",
    "                                        tie_break_policy=\"abstain\")[\"accuracy\"]\n",
    "\n",
    "        if label_model_acc > lma_best:\n",
    "            lma_best = label_model_acc\n",
    "            params_best = params\n",
    "        \n",
    "print(\"best = \", lma_best, \" params \", params_best)"
   ]
  },
  {
   "cell_type": "code",
   "execution_count": 90,
   "metadata": {
    "ExecuteTime": {
     "end_time": "2020-09-07T06:10:53.381970Z",
     "start_time": "2020-09-07T06:10:53.375761Z"
    }
   },
   "outputs": [
    {
     "data": {
      "text/plain": [
       "(25000, 24)"
      ]
     },
     "execution_count": 90,
     "metadata": {},
     "output_type": "execute_result"
    }
   ],
   "source": [
    "L_filtered.shape"
   ]
  },
  {
   "cell_type": "code",
   "execution_count": 96,
   "metadata": {
    "ExecuteTime": {
     "end_time": "2020-09-07T06:20:42.343366Z",
     "start_time": "2020-09-07T06:20:42.182142Z"
    }
   },
   "outputs": [
    {
     "data": {
      "text/html": [
       "<div>\n",
       "<style scoped>\n",
       "    .dataframe tbody tr th:only-of-type {\n",
       "        vertical-align: middle;\n",
       "    }\n",
       "\n",
       "    .dataframe tbody tr th {\n",
       "        vertical-align: top;\n",
       "    }\n",
       "\n",
       "    .dataframe thead th {\n",
       "        text-align: right;\n",
       "    }\n",
       "</style>\n",
       "<table border=\"1\" class=\"dataframe\">\n",
       "  <thead>\n",
       "    <tr style=\"text-align: right;\">\n",
       "      <th></th>\n",
       "      <th>sentiment</th>\n",
       "      <th>snorkel</th>\n",
       "    </tr>\n",
       "  </thead>\n",
       "  <tbody>\n",
       "    <tr>\n",
       "      <th>count</th>\n",
       "      <td>25000.00000</td>\n",
       "      <td>25000.000000</td>\n",
       "    </tr>\n",
       "    <tr>\n",
       "      <th>mean</th>\n",
       "      <td>0.50000</td>\n",
       "      <td>-0.210040</td>\n",
       "    </tr>\n",
       "    <tr>\n",
       "      <th>std</th>\n",
       "      <td>0.50001</td>\n",
       "      <td>0.748669</td>\n",
       "    </tr>\n",
       "    <tr>\n",
       "      <th>min</th>\n",
       "      <td>0.00000</td>\n",
       "      <td>-1.000000</td>\n",
       "    </tr>\n",
       "    <tr>\n",
       "      <th>25%</th>\n",
       "      <td>0.00000</td>\n",
       "      <td>-1.000000</td>\n",
       "    </tr>\n",
       "    <tr>\n",
       "      <th>50%</th>\n",
       "      <td>0.50000</td>\n",
       "      <td>0.000000</td>\n",
       "    </tr>\n",
       "    <tr>\n",
       "      <th>75%</th>\n",
       "      <td>1.00000</td>\n",
       "      <td>0.000000</td>\n",
       "    </tr>\n",
       "    <tr>\n",
       "      <th>max</th>\n",
       "      <td>1.00000</td>\n",
       "      <td>1.000000</td>\n",
       "    </tr>\n",
       "  </tbody>\n",
       "</table>\n",
       "</div>"
      ],
      "text/plain": [
       "         sentiment       snorkel\n",
       "count  25000.00000  25000.000000\n",
       "mean       0.50000     -0.210040\n",
       "std        0.50001      0.748669\n",
       "min        0.00000     -1.000000\n",
       "25%        0.00000     -1.000000\n",
       "50%        0.50000      0.000000\n",
       "75%        1.00000      0.000000\n",
       "max        1.00000      1.000000"
      ]
     },
     "execution_count": 96,
     "metadata": {},
     "output_type": "execute_result"
    }
   ],
   "source": [
    "train_df[\"snorkel\"] = label_model.predict(L=L_filtered, \n",
    "                               tie_break_policy=\"abstain\")\n",
    "train_df.describe()"
   ]
  },
  {
   "cell_type": "code",
   "execution_count": 112,
   "metadata": {
    "ExecuteTime": {
     "end_time": "2020-09-07T06:45:26.588089Z",
     "start_time": "2020-09-07T06:45:26.562792Z"
    }
   },
   "outputs": [],
   "source": [
    "from sklearn.model_selection import train_test_split\n",
    "\n",
    "# Randomly split training into 2k / 23k sets\n",
    "train_2k, train_23k = train_test_split(train_df, test_size=23000, \n",
    "                                      random_state=42, \n",
    "                                      stratify=train_df.sentiment)"
   ]
  },
  {
   "cell_type": "code",
   "execution_count": 103,
   "metadata": {
    "ExecuteTime": {
     "end_time": "2020-09-07T06:38:30.311144Z",
     "start_time": "2020-09-07T06:38:30.144590Z"
    }
   },
   "outputs": [
    {
     "data": {
      "text/plain": [
       "<matplotlib.axes._subplots.AxesSubplot at 0x7fa8f360ed90>"
      ]
     },
     "execution_count": 103,
     "metadata": {},
     "output_type": "execute_result"
    },
    {
     "data": {
      "image/png": "[encoded data removed]",
      "text/plain": [
       "<Figure size 432x288 with 1 Axes>"
      ]
     },
     "metadata": {
      "needs_background": "light"
     },
     "output_type": "display_data"
    }
   ],
   "source": [
    "train_2k.sentiment.hist()"
   ]
  },
  {
   "cell_type": "code",
   "execution_count": 104,
   "metadata": {
    "ExecuteTime": {
     "end_time": "2020-09-07T06:38:44.185390Z",
     "start_time": "2020-09-07T06:38:43.996169Z"
    }
   },
   "outputs": [
    {
     "data": {
      "text/plain": [
       "<matplotlib.axes._subplots.AxesSubplot at 0x7fa8f34433d0>"
      ]
     },
     "execution_count": 104,
     "metadata": {},
     "output_type": "execute_result"
    },
    {
     "data": {
      "image/png": "[encoded data removed]",
      "text/plain": [
       "<Figure size 432x288 with 1 Axes>"
      ]
     },
     "metadata": {
      "needs_background": "light"
     },
     "output_type": "display_data"
    }
   ],
   "source": [
    "train_2k.snorkel.hist()"
   ]
  },
  {
   "cell_type": "code",
   "execution_count": 108,
   "metadata": {
    "ExecuteTime": {
     "end_time": "2020-09-07T06:43:16.847013Z",
     "start_time": "2020-09-07T06:43:16.833105Z"
    }
   },
   "outputs": [],
   "source": [
    "train_2k.to_pickle(\"train_2k.df\")"
   ]
  },
  {
   "cell_type": "code",
   "execution_count": 105,
   "metadata": {
    "ExecuteTime": {
     "end_time": "2020-09-07T06:39:10.226321Z",
     "start_time": "2020-09-07T06:39:10.019198Z"
    },
    "scrolled": true
   },
   "outputs": [
    {
     "data": {
      "text/plain": [
       "<matplotlib.axes._subplots.AxesSubplot at 0x7fa8f35c6ed0>"
      ]
     },
     "execution_count": 105,
     "metadata": {},
     "output_type": "execute_result"
    },
    {
     "data": {
      "image/png": "[encoded data removed]",
      "text/plain": [
       "<Figure size 432x288 with 1 Axes>"
      ]
     },
     "metadata": {
      "needs_background": "light"
     },
     "output_type": "display_data"
    }
   ],
   "source": [
    "train_23k.snorkel.hist()\n",
    "train_23k.sentiment.hist()"
   ]
  },
  {
   "cell_type": "code",
   "execution_count": 113,
   "metadata": {
    "ExecuteTime": {
     "end_time": "2020-09-07T06:45:37.221589Z",
     "start_time": "2020-09-07T06:45:37.203653Z"
    }
   },
   "outputs": [
    {
     "name": "stdout",
     "output_type": "stream",
     "text": [
      "<class 'pandas.core.frame.DataFrame'>\n",
      "Int64Index: 13650 entries, 12023 to 8501\n",
      "Data columns (total 4 columns):\n",
      "filename     13650 non-null object\n",
      "review       13650 non-null object\n",
      "sentiment    13650 non-null int64\n",
      "snorkel      13650 non-null int64\n",
      "dtypes: int64(2), object(2)\n",
      "memory usage: 533.2+ KB\n",
      "None\n"
     ]
    }
   ],
   "source": [
    "lbl_train = train_23k[train_23k.snorkel > -1]\n",
    "print(lbl_train.info())"
   ]
  },
  {
   "cell_type": "code",
   "execution_count": 114,
   "metadata": {
    "ExecuteTime": {
     "end_time": "2020-09-07T06:45:44.242262Z",
     "start_time": "2020-09-07T06:45:43.954456Z"
    }
   },
   "outputs": [
    {
     "data": {
      "text/plain": [
       "array([[<matplotlib.axes._subplots.AxesSubplot object at 0x7fa8d45dfd90>,\n",
       "        <matplotlib.axes._subplots.AxesSubplot object at 0x7fa8d46309d0>]],\n",
       "      dtype=object)"
      ]
     },
     "execution_count": 114,
     "metadata": {},
     "output_type": "execute_result"
    },
    {
     "data": {
      "image/png": "[encoded data removed]",
      "text/plain": [
       "<Figure size 432x288 with 2 Axes>"
      ]
     },
     "metadata": {
      "needs_background": "light"
     },
     "output_type": "display_data"
    }
   ],
   "source": [
    "lbl_train.hist()"
   ]
  },
  {
   "cell_type": "code",
   "execution_count": 115,
   "metadata": {
    "ExecuteTime": {
     "end_time": "2020-09-07T06:45:54.666656Z",
     "start_time": "2020-09-07T06:45:54.654326Z"
    }
   },
   "outputs": [],
   "source": [
    "lbl_train = lbl_train.drop(columns=[\"sentiment\"])\n",
    "p_sup = lbl_train.rename(columns={\"snorkel\": \"sentiment\"})"
   ]
  },
  {
   "cell_type": "code",
   "execution_count": 116,
   "metadata": {
    "ExecuteTime": {
     "end_time": "2020-09-07T06:45:55.574865Z",
     "start_time": "2020-09-07T06:45:55.408159Z"
    }
   },
   "outputs": [
    {
     "data": {
      "text/plain": [
       "array([[<matplotlib.axes._subplots.AxesSubplot object at 0x7fa8d4471450>]],\n",
       "      dtype=object)"
      ]
     },
     "execution_count": 116,
     "metadata": {},
     "output_type": "execute_result"
    },
    {
     "data": {
      "image/png": "[encoded data removed]",
      "text/plain": [
       "<Figure size 432x288 with 1 Axes>"
      ]
     },
     "metadata": {
      "needs_background": "light"
     },
     "output_type": "display_data"
    }
   ],
   "source": [
    "p_sup.hist()"
   ]
  },
  {
   "cell_type": "code",
   "execution_count": 117,
   "metadata": {
    "ExecuteTime": {
     "end_time": "2020-09-07T06:46:50.718072Z",
     "start_time": "2020-09-07T06:46:50.669077Z"
    }
   },
   "outputs": [],
   "source": [
    "p_sup.to_pickle(\"snorkel_train_labeled.df\")"
   ]
  },
  {
   "cell_type": "markdown",
   "metadata": {},
   "source": [
    "# Label Unsupervised"
   ]
  },
  {
   "cell_type": "code",
   "execution_count": 21,
   "metadata": {
    "ExecuteTime": {
     "end_time": "2020-08-26T05:36:57.537394Z",
     "start_time": "2020-08-26T05:35:05.731884Z"
    }
   },
   "outputs": [
    {
     "name": "stderr",
     "output_type": "stream",
     "text": [
      "/home/ashish/anaconda3/envs/tf21g/lib/python3.7/site-packages/tqdm/std.py:668: FutureWarning: The Panel class is removed from pandas. Accessing it from the top-level namespace will also be removed in the next version\n",
      "  from pandas import Panel\n",
      "100%|██████████| 50000/50000 [01:50<00:00, 451.10it/s]\n"
     ]
    },
    {
     "name": "stdout",
     "output_type": "stream",
     "text": [
      "<class 'pandas.core.frame.DataFrame'>\n",
      "Int64Index: 29583 entries, 1 to 49997\n",
      "Data columns (total 3 columns):\n",
      "filename     29583 non-null object\n",
      "review       29583 non-null object\n",
      "sentiment    29583 non-null int64\n",
      "dtypes: int64(1), object(2)\n",
      "memory usage: 924.5+ KB\n",
      "None\n"
     ]
    }
   ],
   "source": [
    "# Now apply this to all the unsupervised reviews\n",
    "# Apply the LFs to the unlabeled training data\n",
    "applier = PandasLFApplier(lfs)\n",
    "\n",
    "# now lets apply on the unsuperisved dataset\n",
    "L_train_unsup = applier.apply(unsup_df)\n",
    "label_model = LabelModel(cardinality=2, verbose=True)\n",
    "label_model.fit(L_train_unsup[:, vals], n_epochs=params_best[2], \n",
    "                optimizer=params_best[3], \n",
    "                lr=params_best[0], l2=params_best[1], log_freq=100, seed=42)\n",
    "\n",
    "unsup_df[\"snorkel\"] = label_model.predict(L=L_train_unsup[:, vals], \n",
    "                                          tie_break_policy=\"abstain\")\n",
    "# rename snorkel to sentiment for concatentation to the training dataset\n",
    "pred_unsup_lfs = unsup_df[unsup_df.snorkel > -1]\n",
    "p2 = pred_unsup_lfs.rename(columns={\"snorkel\": \"sentiment\"})\n",
    "print(p2.info())\n",
    "p2.to_pickle(\"snorkel-unsup-nbs.df\")"
   ]
  },
  {
   "cell_type": "code",
   "execution_count": 29,
   "metadata": {
    "ExecuteTime": {
     "end_time": "2020-08-25T17:04:10.192869Z",
     "start_time": "2020-08-25T17:04:10.184437Z"
    }
   },
   "outputs": [],
   "source": [
    "snorkel_labels = pd.concat((train_df.sentiment, p2.sentiment))"
   ]
  },
  {
   "cell_type": "code",
   "execution_count": 30,
   "metadata": {
    "ExecuteTime": {
     "end_time": "2020-08-25T17:04:31.539165Z",
     "start_time": "2020-08-25T17:04:31.223176Z"
    }
   },
   "outputs": [
    {
     "data": {
      "text/plain": [
       "<matplotlib.axes._subplots.AxesSubplot at 0x7f20f9191b50>"
      ]
     },
     "execution_count": 30,
     "metadata": {},
     "output_type": "execute_result"
    },
    {
     "data": {
      "image/png": "[encoded data removed]",
      "text/plain": [
       "<Figure size 432x288 with 1 Axes>"
      ]
     },
     "metadata": {
      "needs_background": "light"
     },
     "output_type": "display_data"
    }
   ],
   "source": [
    "snorkel_labels.hist()"
   ]
  },
  {
   "cell_type": "code",
   "execution_count": 56,
   "metadata": {
    "ExecuteTime": {
     "end_time": "2020-08-26T06:19:34.918134Z",
     "start_time": "2020-08-26T06:19:34.713722Z"
    }
   },
   "outputs": [
    {
     "data": {
      "text/plain": [
       "<matplotlib.axes._subplots.AxesSubplot at 0x7fa8f14c6ed0>"
      ]
     },
     "execution_count": 56,
     "metadata": {},
     "output_type": "execute_result"
    },
    {
     "data": {
      "image/png": "[encoded data removed]",
      "text/plain": [
       "<Figure size 432x288 with 1 Axes>"
      ]
     },
     "metadata": {
      "needs_background": "light"
     },
     "output_type": "display_data"
    }
   ],
   "source": [
    "unsup_df.snorkel.hist()"
   ]
  },
  {
   "cell_type": "code",
   "execution_count": 22,
   "metadata": {
    "ExecuteTime": {
     "end_time": "2020-08-26T05:37:24.871564Z",
     "start_time": "2020-08-26T05:37:24.564514Z"
    }
   },
   "outputs": [
    {
     "data": {
      "text/plain": [
       "<matplotlib.axes._subplots.AxesSubplot at 0x7fa989326590>"
      ]
     },
     "execution_count": 22,
     "metadata": {},
     "output_type": "execute_result"
    },
    {
     "data": {
      "image/png": "[encoded data removed]",
      "text/plain": [
       "<Figure size 432x288 with 1 Axes>"
      ]
     },
     "metadata": {
      "needs_background": "light"
     },
     "output_type": "display_data"
    }
   ],
   "source": [
    "p2.sentiment.hist()"
   ]
  },
  {
   "cell_type": "markdown",
   "metadata": {},
   "source": [
    "# Increase Positive Label Coverage"
   ]
  },
  {
   "cell_type": "code",
   "execution_count": 23,
   "metadata": {
    "ExecuteTime": {
     "end_time": "2020-09-07T18:26:32.496539Z",
     "start_time": "2020-09-07T18:26:32.485364Z"
    }
   },
   "outputs": [],
   "source": [
    "'''\n",
    "     contains(brilliant) = True                1 : 0      =      3.1 : 1.0\n",
    "     contains(favourite) = True                1 : 0      =      3.0 : 1.0\n",
    "        contains(highly) = True                1 : 0      =      3.0 : 1.0\n",
    "    contains(unexpected) = True                1 : 0      =      3.0 : 1.0\n",
    "         contains(loved) = True                1 : 0      =      3.0 : 1.0\n",
    "         contains(helps) = True                1 : 0      =      2.9 : 1.0\n",
    "      contains(provides) = True                1 : 0      =      2.9 : 1.0\n",
    "        contains(unique) = True                1 : 0      =      2.9 : 1.0\n",
    "        contains(deeply) = True                1 : 0      =      2.9 : 1.0\n",
    "        contains(tragic) = True                1 : 0      =      2.9 : 1.0\n",
    "    *     contains(joan) = True                1 : 0      =      2.8 : 1.0\n",
    "    contains(incredible) = True                1 : 0      =      2.8 : 1.0\n",
    "       contains(intense) = True                1 : 0      =      2.8 : 1.0\n",
    "   contains(fascinating) = True                1 : 0      =      2.8 : 1.0\n",
    "       contains(unusual) = True                1 : 0      =      2.8 : 1.0\n",
    "         contains(today) = True                1 : 0      =      2.8 : 1.0\n",
    "       contains(creates) = True                1 : 0      =      2.8 : 1.0\n",
    "       contains(awesome) = True                1 : 0      =      2.8 : 1.0\n",
    "   contains(spectacular) = True                1 : 0      =      2.7 : 1.0\n",
    "'''\n",
    "\n",
    "pos_words3 = [\"brilliant\", \"favourite\", \"highly\", \"unexpected\",\n",
    "            \"loved\", \"helps\", \"provides\",\"unique\",\n",
    "            \"deeply\", \"tragic\", \"incredible\", \"intense\", \"fascinating\",\n",
    "            \"unusual\", \"today\", \"creates\", \"awesome\", \"spectacular\"]\n",
    "\n",
    "pos_nb_kw3 = make_keyword_lf(keywords=pos_words3, label=POSITIVE)\n",
    "\n",
    "# update with more superlatives\n",
    "@labeling_function()\n",
    "def superlatives3(x):\n",
    "    if not isinstance(x.review, str):\n",
    "        return ABSTAIN\n",
    "    pos_words = [\"brilliant\", \"favourite\", \"highly\", \"unexpected\",\n",
    "            \"loved\", \"helps\", \"provides\",\"unique\",\n",
    "            \"deeply\", \"tragic\", \"incredible\", \"intense\", \"fascinating\",\n",
    "            \"unusual\", \"today\", \"creates\", \"awesome\", \"spectacular\"]\n",
    "    rv = x.review.lower()\n",
    "    counts = [rv.count(x) for x in pos_words]\n",
    "    if sum(counts) >= 2:\n",
    "        return POSITIVE\n",
    "    return ABSTAIN"
   ]
  },
  {
   "cell_type": "code",
   "execution_count": 24,
   "metadata": {
    "ExecuteTime": {
     "end_time": "2020-09-07T18:26:33.318644Z",
     "start_time": "2020-09-07T18:26:33.314051Z"
    }
   },
   "outputs": [],
   "source": [
    "# set of labeling functions\n",
    "lfs2 = lfs + [pos_nb_kw3, superlatives3]\n",
    "\n",
    "# Apply the LFs to the unlabeled training data\n",
    "applier2 = PandasLFApplier(lfs2)"
   ]
  },
  {
   "cell_type": "code",
   "execution_count": 25,
   "metadata": {
    "ExecuteTime": {
     "end_time": "2020-09-07T18:27:41.103625Z",
     "start_time": "2020-09-07T18:26:35.005390Z"
    }
   },
   "outputs": [
    {
     "name": "stderr",
     "output_type": "stream",
     "text": [
      "/home/ashish/anaconda3/envs/tf21g/lib/python3.7/site-packages/tqdm/std.py:668: FutureWarning: The Panel class is removed from pandas. Accessing it from the top-level namespace will also be removed in the next version\n",
      "  from pandas import Panel\n",
      "100%|██████████| 25000/25000 [01:04<00:00, 384.95it/s]\n"
     ]
    }
   ],
   "source": [
    "# train on entire training set\n",
    "L_train_full2 = applier2.apply(train_df)\n",
    "label_model2 = LabelModel(cardinality=2, verbose=True)\n",
    "label_model2.fit(L_train_full2, n_epochs=500, optimizer=\"adam\", \n",
    "                log_freq=50, seed=42)"
   ]
  },
  {
   "cell_type": "code",
   "execution_count": 26,
   "metadata": {
    "ExecuteTime": {
     "end_time": "2020-09-07T18:27:41.738681Z",
     "start_time": "2020-09-07T18:27:41.291942Z"
    }
   },
   "outputs": [
    {
     "name": "stderr",
     "output_type": "stream",
     "text": [
      "WARNING:root:Metrics calculated over data points with non-abstain labels only\n"
     ]
    },
    {
     "name": "stdout",
     "output_type": "stream",
     "text": [
      "Label Model Accuracy:     79.7%\n",
      "All Metrics:  {'accuracy': 0.7972824595113918, 'coverage': 0.87432, 'precision': 0.8393418570530287, 'recall': 0.7342990739891813, 'f1': 0.7833145875103917}\n",
      "                      j Polarity  Coverage  Overlaps  Conflicts\n",
      "atrocious             0      [0]   0.00816   0.00768    0.00384\n",
      "terrible              1      [0]   0.05356   0.05356    0.03044\n",
      "piece_of              2      [0]   0.00084   0.00080    0.00052\n",
      "woefully_miscast      3      [0]   0.00848   0.00792    0.00580\n",
      "bad_acting            4      [0]   0.08748   0.08428    0.04868\n",
      "cheesy_dull           5      [0]   0.05136   0.04980    0.03168\n",
      "disappoint            6      [0]   0.06812   0.06152    0.04592\n",
      "crap                  7      [0]   0.04784   0.04396    0.02528\n",
      "garbage               8      [0]   0.01692   0.01556    0.00856\n",
      "unsatisfied           9      [0]   0.00388   0.00352    0.00260\n",
      "ridiculous           10      [0]   0.03976   0.03668    0.02472\n",
      "bad                  11      [0]   0.03624   0.03624    0.01960\n",
      "keyword_waste        12      [0]   0.07336   0.06924    0.03692\n",
      "keyword_pointless    13      [0]   0.01956   0.01856    0.01108\n",
      "keyword_redeeming    14      [0]   0.01264   0.01212    0.00652\n",
      "keyword_laughable    15      [0]   0.41036   0.37904    0.23668\n",
      "negatives            16      [0]   0.35300   0.34796    0.19788\n",
      "classic              17      [1]   0.01684   0.01540    0.00856\n",
      "must_watch           18      [1]   0.00176   0.00148    0.00060\n",
      "oscar                19      [1]   0.00064   0.00064    0.00016\n",
      "love                 20      [1]   0.08660   0.07844    0.04568\n",
      "great_entertainment  21      [1]   0.00488   0.00488    0.00292\n",
      "very_entertaining    22      [1]   0.00544   0.00476    0.00244\n",
      "amazing              23      [1]   0.05028   0.04652    0.02340\n",
      "brilliant            24      [1]   0.00008   0.00008    0.00004\n",
      "fantastic            25      [1]   0.03036   0.03036    0.01380\n",
      "awesome              26      [1]   0.01740   0.01740    0.00860\n",
      "great_acting         27      [1]   0.02072   0.02072    0.00980\n",
      "great_direction      28      [1]   0.00128   0.00128    0.00076\n",
      "great_story          29      [1]   0.00888   0.00888    0.00388\n",
      "favourite            30      [1]   0.00732   0.00732    0.00348\n",
      "great                31      [1]   0.27728   0.24716    0.13800\n",
      "keyword_wonderfully  32      [1]   0.01248   0.01248    0.00564\n",
      "keyword_delightful   33      [1]   0.01188   0.01128    0.00500\n",
      "keyword_superb       34      [1]   0.02948   0.02744    0.01220\n",
      "keyword_beautifully  35      [1]   0.08284   0.07804    0.03528\n",
      "superlatives         36      [1]   0.14656   0.14528    0.07064\n",
      "keyword_remarkable   37      [1]   0.32052   0.28236    0.14748\n",
      "keyword_brilliant    38      [1]   0.30020   0.27128    0.14204\n",
      "superlatives3        39      [1]   0.09240   0.09240    0.04316\n"
     ]
    }
   ],
   "source": [
    "train_df[\"snorkel2\"] = label_model2.predict(L=L_train_full2, \n",
    "                                          tie_break_policy=\"abstain\")\n",
    "\n",
    "metrics = label_model2.score(L=L_train_full2, Y=train_df.sentiment,\n",
    "                            tie_break_policy=\"abstain\",\n",
    "                            metrics=[\"accuracy\", \"coverage\", \"precision\",\n",
    "                                     \"recall\", \"f1\"])\n",
    "label_model_acc = metrics[\"accuracy\"]\n",
    "print(f\"{'Label Model Accuracy:':<25} {label_model_acc * 100:.1f}%\")\n",
    "print(\"All Metrics: \", metrics)\n",
    "print(LFAnalysis(L=L_train_full2, lfs=lfs2).lf_summary())"
   ]
  },
  {
   "cell_type": "code",
   "execution_count": 27,
   "metadata": {
    "ExecuteTime": {
     "end_time": "2020-09-07T18:28:19.017549Z",
     "start_time": "2020-09-07T18:28:18.755308Z"
    }
   },
   "outputs": [
    {
     "data": {
      "text/plain": [
       "<matplotlib.axes._subplots.AxesSubplot at 0x7f09546b8490>"
      ]
     },
     "execution_count": 27,
     "metadata": {},
     "output_type": "execute_result"
    },
    {
     "data": {
      "image/png": "[encoded data removed]",
      "text/plain": [
       "<Figure size 432x288 with 1 Axes>"
      ]
     },
     "metadata": {
      "needs_background": "light"
     },
     "output_type": "display_data"
    }
   ],
   "source": [
    "train_df.snorkel2.hist()"
   ]
  },
  {
   "cell_type": "code",
   "execution_count": 28,
   "metadata": {
    "ExecuteTime": {
     "end_time": "2020-09-07T18:30:17.992951Z",
     "start_time": "2020-09-07T18:28:24.077703Z"
    }
   },
   "outputs": [
    {
     "name": "stderr",
     "output_type": "stream",
     "text": [
      "WARNING:root:Metrics calculated over data points with non-abstain labels only\n",
      "WARNING:root:Metrics calculated over data points with non-abstain labels only\n",
      "WARNING:root:Metrics calculated over data points with non-abstain labels only\n",
      "WARNING:root:Metrics calculated over data points with non-abstain labels only\n",
      "WARNING:root:Metrics calculated over data points with non-abstain labels only\n",
      "WARNING:root:Metrics calculated over data points with non-abstain labels only\n",
      "WARNING:root:Metrics calculated over data points with non-abstain labels only\n",
      "WARNING:root:Metrics calculated over data points with non-abstain labels only\n",
      "WARNING:root:Metrics calculated over data points with non-abstain labels only\n",
      "WARNING:root:Metrics calculated over data points with non-abstain labels only\n",
      "WARNING:root:Metrics calculated over data points with non-abstain labels only\n",
      "WARNING:root:Metrics calculated over data points with non-abstain labels only\n",
      "WARNING:root:Metrics calculated over data points with non-abstain labels only\n",
      "WARNING:root:Metrics calculated over data points with non-abstain labels only\n",
      "WARNING:root:Metrics calculated over data points with non-abstain labels only\n",
      "WARNING:root:Metrics calculated over data points with non-abstain labels only\n",
      "WARNING:root:Metrics calculated over data points with non-abstain labels only\n",
      "WARNING:root:Metrics calculated over data points with non-abstain labels only\n",
      "WARNING:root:Metrics calculated over data points with non-abstain labels only\n",
      "WARNING:root:Metrics calculated over data points with non-abstain labels only\n",
      "WARNING:root:Metrics calculated over data points with non-abstain labels only\n",
      "WARNING:root:Metrics calculated over data points with non-abstain labels only\n",
      "WARNING:root:Metrics calculated over data points with non-abstain labels only\n",
      "WARNING:root:Metrics calculated over data points with non-abstain labels only\n",
      "WARNING:root:Metrics calculated over data points with non-abstain labels only\n",
      "WARNING:root:Metrics calculated over data points with non-abstain labels only\n",
      "WARNING:root:Metrics calculated over data points with non-abstain labels only\n",
      "WARNING:root:Metrics calculated over data points with non-abstain labels only\n",
      "WARNING:root:Metrics calculated over data points with non-abstain labels only\n",
      "WARNING:root:Metrics calculated over data points with non-abstain labels only\n",
      "WARNING:root:Metrics calculated over data points with non-abstain labels only\n",
      "WARNING:root:Metrics calculated over data points with non-abstain labels only\n",
      "WARNING:root:Metrics calculated over data points with non-abstain labels only\n",
      "WARNING:root:Metrics calculated over data points with non-abstain labels only\n",
      "WARNING:root:Metrics calculated over data points with non-abstain labels only\n",
      "WARNING:root:Metrics calculated over data points with non-abstain labels only\n",
      "WARNING:root:Metrics calculated over data points with non-abstain labels only\n",
      "WARNING:root:Metrics calculated over data points with non-abstain labels only\n",
      "WARNING:root:Metrics calculated over data points with non-abstain labels only\n",
      "WARNING:root:Metrics calculated over data points with non-abstain labels only\n",
      "WARNING:root:Metrics calculated over data points with non-abstain labels only\n",
      "WARNING:root:Metrics calculated over data points with non-abstain labels only\n",
      "WARNING:root:Metrics calculated over data points with non-abstain labels only\n",
      "WARNING:root:Metrics calculated over data points with non-abstain labels only\n",
      "WARNING:root:Metrics calculated over data points with non-abstain labels only\n",
      "WARNING:root:Metrics calculated over data points with non-abstain labels only\n",
      "WARNING:root:Metrics calculated over data points with non-abstain labels only\n",
      "WARNING:root:Metrics calculated over data points with non-abstain labels only\n",
      "WARNING:root:Metrics calculated over data points with non-abstain labels only\n",
      "WARNING:root:Metrics calculated over data points with non-abstain labels only\n",
      "WARNING:root:Metrics calculated over data points with non-abstain labels only\n",
      "WARNING:root:Metrics calculated over data points with non-abstain labels only\n",
      "WARNING:root:Metrics calculated over data points with non-abstain labels only\n",
      "WARNING:root:Metrics calculated over data points with non-abstain labels only\n",
      "WARNING:root:Metrics calculated over data points with non-abstain labels only\n",
      "WARNING:root:Metrics calculated over data points with non-abstain labels only\n",
      "WARNING:root:Metrics calculated over data points with non-abstain labels only\n",
      "WARNING:root:Metrics calculated over data points with non-abstain labels only\n",
      "WARNING:root:Metrics calculated over data points with non-abstain labels only\n",
      "WARNING:root:Metrics calculated over data points with non-abstain labels only\n",
      "WARNING:root:Metrics calculated over data points with non-abstain labels only\n",
      "WARNING:root:Metrics calculated over data points with non-abstain labels only\n",
      "WARNING:root:Metrics calculated over data points with non-abstain labels only\n",
      "WARNING:root:Metrics calculated over data points with non-abstain labels only\n",
      "WARNING:root:Metrics calculated over data points with non-abstain labels only\n",
      "WARNING:root:Metrics calculated over data points with non-abstain labels only\n",
      "WARNING:root:Metrics calculated over data points with non-abstain labels only\n",
      "WARNING:root:Metrics calculated over data points with non-abstain labels only\n",
      "WARNING:root:Metrics calculated over data points with non-abstain labels only\n",
      "WARNING:root:Metrics calculated over data points with non-abstain labels only\n",
      "WARNING:root:Metrics calculated over data points with non-abstain labels only\n",
      "WARNING:root:Metrics calculated over data points with non-abstain labels only\n",
      "WARNING:root:Metrics calculated over data points with non-abstain labels only\n",
      "WARNING:root:Metrics calculated over data points with non-abstain labels only\n",
      "WARNING:root:Metrics calculated over data points with non-abstain labels only\n",
      "WARNING:root:Metrics calculated over data points with non-abstain labels only\n",
      "WARNING:root:Metrics calculated over data points with non-abstain labels only\n",
      "WARNING:root:Metrics calculated over data points with non-abstain labels only\n",
      "WARNING:root:Metrics calculated over data points with non-abstain labels only\n",
      "WARNING:root:Metrics calculated over data points with non-abstain labels only\n",
      "WARNING:root:Metrics calculated over data points with non-abstain labels only\n",
      "WARNING:root:Metrics calculated over data points with non-abstain labels only\n",
      "WARNING:root:Metrics calculated over data points with non-abstain labels only\n",
      "WARNING:root:Metrics calculated over data points with non-abstain labels only\n",
      "WARNING:root:Metrics calculated over data points with non-abstain labels only\n",
      "WARNING:root:Metrics calculated over data points with non-abstain labels only\n",
      "WARNING:root:Metrics calculated over data points with non-abstain labels only\n",
      "WARNING:root:Metrics calculated over data points with non-abstain labels only\n",
      "WARNING:root:Metrics calculated over data points with non-abstain labels only\n",
      "WARNING:root:Metrics calculated over data points with non-abstain labels only\n",
      "WARNING:root:Metrics calculated over data points with non-abstain labels only\n",
      "WARNING:root:Metrics calculated over data points with non-abstain labels only\n",
      "WARNING:root:Metrics calculated over data points with non-abstain labels only\n",
      "WARNING:root:Metrics calculated over data points with non-abstain labels only\n",
      "WARNING:root:Metrics calculated over data points with non-abstain labels only\n",
      "WARNING:root:Metrics calculated over data points with non-abstain labels only\n",
      "WARNING:root:Metrics calculated over data points with non-abstain labels only\n",
      "WARNING:root:Metrics calculated over data points with non-abstain labels only\n",
      "WARNING:root:Metrics calculated over data points with non-abstain labels only\n",
      "WARNING:root:Metrics calculated over data points with non-abstain labels only\n",
      "WARNING:root:Metrics calculated over data points with non-abstain labels only\n",
      "WARNING:root:Metrics calculated over data points with non-abstain labels only\n",
      "WARNING:root:Metrics calculated over data points with non-abstain labels only\n",
      "WARNING:root:Metrics calculated over data points with non-abstain labels only\n",
      "WARNING:root:Metrics calculated over data points with non-abstain labels only\n",
      "WARNING:root:Metrics calculated over data points with non-abstain labels only\n"
     ]
    },
    {
     "name": "stderr",
     "output_type": "stream",
     "text": [
      "WARNING:root:Metrics calculated over data points with non-abstain labels only\n",
      "WARNING:root:Metrics calculated over data points with non-abstain labels only\n"
     ]
    },
    {
     "name": "stdout",
     "output_type": "stream",
     "text": [
      "best =  0.8393191337670439  params  (0.001, 0, 100, 'sgd', 0.9)\n"
     ]
    }
   ],
   "source": [
    "# Grid Search\n",
    "from itertools import product\n",
    "\n",
    "lrs = [1e-1, 1e-2, 1e-3]\n",
    "l2s = [0, 1e-1, 1e-2]\n",
    "n_epochs = [100, 200, 500]\n",
    "optimizer = [\"sgd\", \"adam\"]\n",
    "thresh = [0.8, 0.9]\n",
    "lma_best = 0\n",
    "params_best = []\n",
    "\n",
    "for params in product(lrs, l2s, n_epochs, optimizer, thresh):\n",
    "    # do the initial pass to access the accuracies\n",
    "    label_model2.fit(L_train_full2, n_epochs=params[2], log_freq=50, seed=123, \n",
    "                    optimizer=params[3], lr=params[0], l2=params[1])\n",
    "    \n",
    "    # accuracies\n",
    "    weights = label_model2.get_weights()\n",
    "    \n",
    "    # LFs above our threshold \n",
    "    vals = weights > params[4]\n",
    "    \n",
    "    # the LM requires at least 3 LFs to train\n",
    "    if sum(vals) >= 3:\n",
    "        L_filtered = L_train_full2[:, vals]\n",
    "\n",
    "        label_model2.fit(L_filtered, n_epochs=params[2], log_freq=50, seed=123, \n",
    "                        optimizer=params[3], lr=params[0], l2=params[1])\n",
    "\n",
    "        label_model_acc = label_model2.score(L=L_filtered, Y=train_df.sentiment, \n",
    "                                        tie_break_policy=\"abstain\")[\"accuracy\"]\n",
    "\n",
    "        if label_model_acc > lma_best:\n",
    "            lma_best = label_model_acc\n",
    "            params_best = params\n",
    "        \n",
    "print(\"best = \", lma_best, \" params \", params_best)"
   ]
  },
  {
   "cell_type": "code",
   "execution_count": 29,
   "metadata": {
    "ExecuteTime": {
     "end_time": "2020-09-07T18:48:30.780425Z",
     "start_time": "2020-09-07T18:48:30.627346Z"
    }
   },
   "outputs": [],
   "source": [
    "train_df['snorkel3'] = label_model2.predict(L=L_filtered, \n",
    "                                          tie_break_policy=\"abstain\")"
   ]
  },
  {
   "cell_type": "code",
   "execution_count": 30,
   "metadata": {
    "ExecuteTime": {
     "end_time": "2020-09-07T18:48:31.549272Z",
     "start_time": "2020-09-07T18:48:31.375541Z"
    }
   },
   "outputs": [
    {
     "data": {
      "text/plain": [
       "<matplotlib.axes._subplots.AxesSubplot at 0x7f09543c6810>"
      ]
     },
     "execution_count": 30,
     "metadata": {},
     "output_type": "execute_result"
    },
    {
     "data": {
      "image/png": "[encoded data removed]",
      "text/plain": [
       "<Figure size 432x288 with 1 Axes>"
      ]
     },
     "metadata": {
      "needs_background": "light"
     },
     "output_type": "display_data"
    }
   ],
   "source": [
    "train_df.snorkel3.hist()"
   ]
  },
  {
   "cell_type": "code",
   "execution_count": 31,
   "metadata": {
    "ExecuteTime": {
     "end_time": "2020-09-07T18:50:44.733664Z",
     "start_time": "2020-09-07T18:48:33.823051Z"
    }
   },
   "outputs": [
    {
     "name": "stderr",
     "output_type": "stream",
     "text": [
      "/home/ashish/anaconda3/envs/tf21g/lib/python3.7/site-packages/tqdm/std.py:668: FutureWarning: The Panel class is removed from pandas. Accessing it from the top-level namespace will also be removed in the next version\n",
      "  from pandas import Panel\n",
      "100%|██████████| 50000/50000 [02:10<00:00, 384.35it/s]\n"
     ]
    }
   ],
   "source": [
    "# Now apply this to all the unsupervised reviews\n",
    "# Apply the LFs to the unlabeled training data\n",
    "applier2 = PandasLFApplier(lfs2)\n",
    "\n",
    "# now lets apply on the unsuperisved dataset\n",
    "L_train_unsup2 = applier2.apply(unsup_df)\n",
    "label_model_unsup = LabelModel(cardinality=2, verbose=True)\n",
    "label_model_unsup.fit(L_train_unsup2[:, vals], n_epochs=params_best[2], \n",
    "                optimizer=params_best[3], \n",
    "                lr=params_best[0], l2=params_best[1], log_freq=100, seed=42)\n",
    "\n",
    "unsup_df[\"snorkel2\"] = label_model_unsup.predict(L=L_train_unsup2[:, vals], \n",
    "                                          tie_break_policy=\"abstain\")\n",
    "# rename snorkel to sentiment for concatentation to the training dataset\n",
    "pred_unsup_lfs2 = unsup_df[unsup_df.snorkel2 > -1]"
   ]
  },
  {
   "cell_type": "code",
   "execution_count": 32,
   "metadata": {
    "ExecuteTime": {
     "end_time": "2020-09-07T18:54:33.563070Z",
     "start_time": "2020-09-07T18:54:33.545077Z"
    }
   },
   "outputs": [
    {
     "name": "stdout",
     "output_type": "stream",
     "text": [
      "<class 'pandas.core.frame.DataFrame'>\n",
      "Int64Index: 31238 entries, 1 to 49997\n",
      "Data columns (total 3 columns):\n",
      "filename    31238 non-null object\n",
      "review      31238 non-null object\n",
      "snorkel2    31238 non-null int64\n",
      "dtypes: int64(1), object(2)\n",
      "memory usage: 976.2+ KB\n"
     ]
    }
   ],
   "source": [
    "pred_unsup_lfs2.info()"
   ]
  },
  {
   "cell_type": "code",
   "execution_count": 33,
   "metadata": {
    "ExecuteTime": {
     "end_time": "2020-09-07T18:54:36.211131Z",
     "start_time": "2020-09-07T18:54:36.027963Z"
    }
   },
   "outputs": [
    {
     "data": {
      "text/plain": [
       "array([[<matplotlib.axes._subplots.AxesSubplot object at 0x7f095415d510>]],\n",
       "      dtype=object)"
      ]
     },
     "execution_count": 33,
     "metadata": {},
     "output_type": "execute_result"
    },
    {
     "data": {
      "image/png": "[encoded data removed]",
      "text/plain": [
       "<Figure size 432x288 with 1 Axes>"
      ]
     },
     "metadata": {
      "needs_background": "light"
     },
     "output_type": "display_data"
    }
   ],
   "source": [
    "pred_unsup_lfs2.hist()"
   ]
  },
  {
   "cell_type": "code",
   "execution_count": 34,
   "metadata": {
    "ExecuteTime": {
     "end_time": "2020-09-07T18:54:44.762688Z",
     "start_time": "2020-09-07T18:54:44.574146Z"
    }
   },
   "outputs": [
    {
     "data": {
      "text/plain": [
       "<matplotlib.axes._subplots.AxesSubplot at 0x7f09541415d0>"
      ]
     },
     "execution_count": 34,
     "metadata": {},
     "output_type": "execute_result"
    },
    {
     "data": {
      "image/png": "[encoded data removed]",
      "text/plain": [
       "<Figure size 432x288 with 1 Axes>"
      ]
     },
     "metadata": {
      "needs_background": "light"
     },
     "output_type": "display_data"
    }
   ],
   "source": [
    "unsup_df.snorkel2.hist()"
   ]
  },
  {
   "cell_type": "code",
   "execution_count": 62,
   "metadata": {
    "ExecuteTime": {
     "end_time": "2020-08-26T06:35:24.322409Z",
     "start_time": "2020-08-26T06:35:24.227875Z"
    }
   },
   "outputs": [
    {
     "name": "stdout",
     "output_type": "stream",
     "text": [
      "<class 'pandas.core.frame.DataFrame'>\n",
      "Int64Index: 31238 entries, 1 to 49997\n",
      "Data columns (total 4 columns):\n",
      "filename     31238 non-null object\n",
      "review       31238 non-null object\n",
      "snorkel      31238 non-null int64\n",
      "sentiment    31238 non-null int64\n",
      "dtypes: int64(2), object(2)\n",
      "memory usage: 1.2+ MB\n",
      "None\n"
     ]
    }
   ],
   "source": [
    "p3 = pred_unsup_lfs2.rename(columns={\"snorkel2\": \"sentiment\"})\n",
    "print(p3.info())\n",
    "p3.to_pickle(\"snorkel-unsup-nbs-v2.df\")"
   ]
  },
  {
   "cell_type": "code",
   "execution_count": 63,
   "metadata": {
    "ExecuteTime": {
     "end_time": "2020-08-26T06:35:52.570918Z",
     "start_time": "2020-08-26T06:35:52.554795Z"
    }
   },
   "outputs": [
    {
     "name": "stdout",
     "output_type": "stream",
     "text": [
      "<class 'pandas.core.frame.DataFrame'>\n",
      "Int64Index: 31238 entries, 1 to 49997\n",
      "Data columns (total 4 columns):\n",
      "filename     31238 non-null object\n",
      "review       31238 non-null object\n",
      "snorkel      31238 non-null int64\n",
      "sentiment    31238 non-null int64\n",
      "dtypes: int64(2), object(2)\n",
      "memory usage: 1.2+ MB\n"
     ]
    }
   ],
   "source": [
    "p3.info()"
   ]
  },
  {
   "cell_type": "code",
   "execution_count": 64,
   "metadata": {
    "ExecuteTime": {
     "end_time": "2020-08-26T06:36:00.599107Z",
     "start_time": "2020-08-26T06:36:00.575317Z"
    }
   },
   "outputs": [
    {
     "data": {
      "text/html": [
       "<div>\n",
       "<style scoped>\n",
       "    .dataframe tbody tr th:only-of-type {\n",
       "        vertical-align: middle;\n",
       "    }\n",
       "\n",
       "    .dataframe tbody tr th {\n",
       "        vertical-align: top;\n",
       "    }\n",
       "\n",
       "    .dataframe thead th {\n",
       "        text-align: right;\n",
       "    }\n",
       "</style>\n",
       "<table border=\"1\" class=\"dataframe\">\n",
       "  <thead>\n",
       "    <tr style=\"text-align: right;\">\n",
       "      <th></th>\n",
       "      <th>filename</th>\n",
       "      <th>review</th>\n",
       "      <th>snorkel</th>\n",
       "      <th>snorkel2</th>\n",
       "    </tr>\n",
       "  </thead>\n",
       "  <tbody>\n",
       "    <tr>\n",
       "      <th>1</th>\n",
       "      <td>./aclImdb/train/unsup/45898_0.txt</td>\n",
       "      <td>I'm a fan of B-movies, but this Poverty Row fi...</td>\n",
       "      <td>0</td>\n",
       "      <td>0</td>\n",
       "    </tr>\n",
       "    <tr>\n",
       "      <th>3</th>\n",
       "      <td>./aclImdb/train/unsup/19255_0.txt</td>\n",
       "      <td>After his father was killed a young man named ...</td>\n",
       "      <td>0</td>\n",
       "      <td>0</td>\n",
       "    </tr>\n",
       "    <tr>\n",
       "      <th>4</th>\n",
       "      <td>./aclImdb/train/unsup/13052_0.txt</td>\n",
       "      <td>This is kind of an \"Alien\"-set-in-a-prison typ...</td>\n",
       "      <td>0</td>\n",
       "      <td>0</td>\n",
       "    </tr>\n",
       "    <tr>\n",
       "      <th>9</th>\n",
       "      <td>./aclImdb/train/unsup/46676_0.txt</td>\n",
       "      <td>amateurish space trash.&lt;br /&gt;&lt;br /&gt;politically...</td>\n",
       "      <td>0</td>\n",
       "      <td>0</td>\n",
       "    </tr>\n",
       "    <tr>\n",
       "      <th>11</th>\n",
       "      <td>./aclImdb/train/unsup/555_0.txt</td>\n",
       "      <td>i cant get enough of this movie! i have watche...</td>\n",
       "      <td>1</td>\n",
       "      <td>1</td>\n",
       "    </tr>\n",
       "    <tr>\n",
       "      <th>...</th>\n",
       "      <td>...</td>\n",
       "      <td>...</td>\n",
       "      <td>...</td>\n",
       "      <td>...</td>\n",
       "    </tr>\n",
       "    <tr>\n",
       "      <th>49991</th>\n",
       "      <td>./aclImdb/train/unsup/33902_0.txt</td>\n",
       "      <td>This film couldn't decide what kind of movie i...</td>\n",
       "      <td>0</td>\n",
       "      <td>0</td>\n",
       "    </tr>\n",
       "    <tr>\n",
       "      <th>49994</th>\n",
       "      <td>./aclImdb/train/unsup/30755_0.txt</td>\n",
       "      <td>This is a hugely disappointing sequel and does...</td>\n",
       "      <td>0</td>\n",
       "      <td>0</td>\n",
       "    </tr>\n",
       "    <tr>\n",
       "      <th>49995</th>\n",
       "      <td>./aclImdb/train/unsup/21930_0.txt</td>\n",
       "      <td>This is a fantastic movie, driven primarily by...</td>\n",
       "      <td>1</td>\n",
       "      <td>1</td>\n",
       "    </tr>\n",
       "    <tr>\n",
       "      <th>49996</th>\n",
       "      <td>./aclImdb/train/unsup/37482_0.txt</td>\n",
       "      <td>i had a lot of problems with this film but the...</td>\n",
       "      <td>0</td>\n",
       "      <td>0</td>\n",
       "    </tr>\n",
       "    <tr>\n",
       "      <th>49997</th>\n",
       "      <td>./aclImdb/train/unsup/43400_0.txt</td>\n",
       "      <td>When you find yourself skipping through large ...</td>\n",
       "      <td>0</td>\n",
       "      <td>0</td>\n",
       "    </tr>\n",
       "  </tbody>\n",
       "</table>\n",
       "<p>31238 rows × 4 columns</p>\n",
       "</div>"
      ],
      "text/plain": [
       "                                filename  \\\n",
       "1      ./aclImdb/train/unsup/45898_0.txt   \n",
       "3      ./aclImdb/train/unsup/19255_0.txt   \n",
       "4      ./aclImdb/train/unsup/13052_0.txt   \n",
       "9      ./aclImdb/train/unsup/46676_0.txt   \n",
       "11       ./aclImdb/train/unsup/555_0.txt   \n",
       "...                                  ...   \n",
       "49991  ./aclImdb/train/unsup/33902_0.txt   \n",
       "49994  ./aclImdb/train/unsup/30755_0.txt   \n",
       "49995  ./aclImdb/train/unsup/21930_0.txt   \n",
       "49996  ./aclImdb/train/unsup/37482_0.txt   \n",
       "49997  ./aclImdb/train/unsup/43400_0.txt   \n",
       "\n",
       "                                                  review  snorkel  snorkel2  \n",
       "1      I'm a fan of B-movies, but this Poverty Row fi...        0         0  \n",
       "3      After his father was killed a young man named ...        0         0  \n",
       "4      This is kind of an \"Alien\"-set-in-a-prison typ...        0         0  \n",
       "9      amateurish space trash.<br /><br />politically...        0         0  \n",
       "11     i cant get enough of this movie! i have watche...        1         1  \n",
       "...                                                  ...      ...       ...  \n",
       "49991  This film couldn't decide what kind of movie i...        0         0  \n",
       "49994  This is a hugely disappointing sequel and does...        0         0  \n",
       "49995  This is a fantastic movie, driven primarily by...        1         1  \n",
       "49996  i had a lot of problems with this film but the...        0         0  \n",
       "49997  When you find yourself skipping through large ...        0         0  \n",
       "\n",
       "[31238 rows x 4 columns]"
      ]
     },
     "execution_count": 64,
     "metadata": {},
     "output_type": "execute_result"
    }
   ],
   "source": [
    "pred_unsup_lfs2"
   ]
  },
  {
   "cell_type": "code",
   "execution_count": null,
   "metadata": {},
   "outputs": [],
   "source": []
  }
 ],
 "metadata": {
  "kernelspec": {
   "display_name": "TF 2.1 (GPU)/Py3.7.5",
   "language": "python",
   "name": "tf21g"
  },
  "language_info": {
   "codemirror_mode": {
    "name": "ipython",
    "version": 3
   },
   "file_extension": ".py",
   "mimetype": "text/x-python",
   "name": "python",
   "nbconvert_exporter": "python",
   "pygments_lexer": "ipython3",
   "version": "3.7.5"
  },
  "toc": {
   "base_numbering": 1,
   "nav_menu": {},
   "number_sections": true,
   "sideBar": true,
   "skip_h1_title": false,
   "title_cell": "Table of Contents",
   "title_sidebar": "Contents",
   "toc_cell": false,
   "toc_position": {
    "height": "calc(100% - 180px)",
    "left": "10px",
    "top": "150px",
    "width": "165px"
   },
   "toc_section_display": true,
   "toc_window_display": true
  },
  "varInspector": {
   "cols": {
    "lenName": 16,
    "lenType": 16,
    "lenVar": 40
   },
   "kernels_config": {
    "python": {
     "delete_cmd_postfix": "",
     "delete_cmd_prefix": "del ",
     "library": "var_list.py",
     "varRefreshCmd": "print(var_dic_list())"
    },
    "r": {
     "delete_cmd_postfix": ") ",
     "delete_cmd_prefix": "rm(",
     "library": "var_list.r",
     "varRefreshCmd": "cat(var_dic_list()) "
    }
   },
   "types_to_exclude": [
    "module",
    "function",
    "builtin_function_or_method",
    "instance",
    "_Feature"
   ],
   "window_display": false
  }
 },
 "nbformat": 4,
 "nbformat_minor": 2
}
